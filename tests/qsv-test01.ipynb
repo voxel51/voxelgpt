{
 "cells": [
  {
   "cell_type": "code",
   "execution_count": null,
   "id": "a8f25c6f-a72f-4db0-a873-1dae2a924065",
   "metadata": {},
   "outputs": [],
   "source": [
    "import shutil\n",
    "import os\n",
    "import random\n",
    "\n",
    "import numpy as np\n",
    "\n",
    "import fiftyone as fo\n",
    "import fiftyone.zoo as foz"
   ]
  },
  {
   "cell_type": "code",
   "execution_count": null,
   "id": "00d335a4-72da-43a3-adf5-44fa254381ba",
   "metadata": {
    "tags": []
   },
   "outputs": [],
   "source": [
    "def create_tracks(dataset, dets_field):\n",
    "    kps_field = dets_field+\"_cntr\"\n",
    "    frame_kps = {}\n",
    "    for sample_id, frame_numbers, frames_dets in zip(*dataset.values([\"id\", \"frames.frame_number\", \"frames.%s\" % dets_field])):\n",
    "        print(f\"sample_id={sample_id}\")\n",
    "        if sample_id not in frame_kps:\n",
    "            frame_kps[sample_id] = {}\n",
    "\n",
    "        for frame_number, frame_dets in zip(frame_numbers, frames_dets):\n",
    "            if frame_dets is None:\n",
    "                continue\n",
    "                \n",
    "            frame_kps[sample_id][frame_number] = fo.Keypoints(keypoints=[])\n",
    "            for det in frame_dets.detections:\n",
    "                tlx,tly,w,h = det.bounding_box\n",
    "                center = (tlx+w/2, tly+h/2)\n",
    "                idx = det.index\n",
    "                if idx == None:\n",
    "                    continue\n",
    "                frame_kps[sample_id][frame_number].keypoints.append(fo.Keypoint(label=str(idx), points=[center]))\n",
    "                        \n",
    "    dataset.set_values(\"frames.\"+kps_field, frame_kps, key_field=\"id\")"
   ]
  },
  {
   "cell_type": "code",
   "execution_count": null,
   "id": "b04d86b0-9d2c-4eae-afc4-51efaca2d470",
   "metadata": {},
   "outputs": [],
   "source": [
    "DSETNAME = 'qsv-test01'\n",
    "if fo.dataset_exists(DSETNAME):\n",
    "    fo.delete_dataset(DSETNAME)\n",
    "    \n",
    "dsv = foz.load_zoo_dataset('quickstart-video',dataset_name=DSETNAME)\n",
    "dsv.compute_metadata()\n",
    "dsv.ensure_frames()\n",
    "dsv.persistent=True\n",
    "\n",
    "dets = dsv.values('frames.detections')\n",
    "dsv.set_values('frames.dets',dets)\n",
    "dsv.delete_frame_field('detections')"
   ]
  },
  {
   "cell_type": "code",
   "execution_count": null,
   "id": "b74c1dab-795e-4fe1-9733-1e6042224a3d",
   "metadata": {
    "tags": []
   },
   "outputs": [],
   "source": [
    "# add keypts\n",
    "create_tracks(dsv,'dets')"
   ]
  },
  {
   "cell_type": "code",
   "execution_count": null,
   "id": "cbcf26c6-c94d-4c93-98c6-2e6338a4c291",
   "metadata": {
    "tags": []
   },
   "outputs": [],
   "source": [
    "# add tempdets\n",
    "LABELS = ['hazard', 'bird', 'meteor']          \n",
    "for i,s in enumerate(dsv):\n",
    "    lbl1 = LABELS[i % len(LABELS)]\n",
    "    lbl2 = LABELS[(i+1) % len(LABELS)]    \n",
    "    td0 = fo.TemporalDetection(label=lbl1,support=[10+i,20+2*i])\n",
    "    td1 = fo.TemporalDetection(label=lbl2,support=[50+i,70+2*i])\n",
    "    tds = fo.TemporalDetections(detections=[td0,td1])\n",
    "    s['events'] = tds\n",
    "    s.save()\n",
    "    \n"
   ]
  },
  {
   "cell_type": "code",
   "execution_count": null,
   "id": "2e038918-efa0-4839-b081-88a16a2f758a",
   "metadata": {},
   "outputs": [],
   "source": []
  },
  {
   "cell_type": "code",
   "execution_count": null,
   "id": "2241abf3-7892-4c48-af17-176c1302dc56",
   "metadata": {},
   "outputs": [],
   "source": []
  },
  {
   "cell_type": "markdown",
   "id": "7e00b853-3ae6-49e8-8531-bc712d3a2686",
   "metadata": {},
   "source": [
    "### -------- working ----------"
   ]
  },
  {
   "cell_type": "code",
   "execution_count": null,
   "id": "9037404a-3510-4a65-8f27-0613703c3e6e",
   "metadata": {},
   "outputs": [],
   "source": [
    "# tags\n",
    "set = np.random.randint(0,2,len(dsv),dtype=np.bool)\n",
    "dsv[set].tag_samples('Intruder')\n",
    "set = np.random.randint(0,2,len(dsv),dtype=np.bool)\n",
    "dsv[set].tag_samples('Safe')\n",
    "\n",
    "# classes\n",
    "CLASSES = ['sunny', 'rainy', 'hailing']\n",
    "num_class = len(CLASSES)\n",
    "for s in dsv.iter_samples(autosave=True):\n",
    "    icls = np.random.randint(0,num_class)\n",
    "    conf = np.random.random()\n",
    "    c = fo.Classification(label=CLASSES[icls],confidence=conf)\n",
    "    s['weather'] = c\n",
    "    \n",
    "# tempdets\n",
    "CLASSES = ['vehicle','person','animal']\n",
    "for s in dsv.iter_samples(autosave=True):\n",
    "    nf = s.metadata.total_frame_count\n",
    "    icls = np.random.randint(0,num_class)\n",
    "    conf = np.random.random()\n",
    "    f0 = np.random.randint(0,nf)\n",
    "    f1 = np.random.randint(0,nf)\n",
    "    if f0 > f1:\n",
    "        tmp = f0\n",
    "        f0 = f1\n",
    "        f1 = tmp\n",
    "    s['objects'] = fo.TemporalDetection(label=CLASSES[icls],\n",
    "                                        support=[f0,f1],\n",
    "                                        confidence=conf)\n",
    "    \n",
    "# frame classes\n",
    "for s in dsv.iter_samples(autosave=True):\n",
    "    for f,frm in s.frames.items():\n",
    "        if np.random.random()>0.95:\n",
    "            icls = np.random.randint(0,num_class)\n",
    "            conf = np.random.random()\n",
    "            c = fo.Classification(label=CLASSES[icls],confidence=conf)\n",
    "            frm['intruder'] = c\n",
    "            frm.save()\n",
    "                             "
   ]
  }
 ],
 "metadata": {
  "kernelspec": {
   "display_name": "Python 3 (ipykernel)",
   "language": "python",
   "name": "python3"
  },
  "language_info": {
   "codemirror_mode": {
    "name": "ipython",
    "version": 3
   },
   "file_extension": ".py",
   "mimetype": "text/x-python",
   "name": "python",
   "nbconvert_exporter": "python",
   "pygments_lexer": "ipython3",
   "version": "3.10.11"
  }
 },
 "nbformat": 4,
 "nbformat_minor": 5
}
