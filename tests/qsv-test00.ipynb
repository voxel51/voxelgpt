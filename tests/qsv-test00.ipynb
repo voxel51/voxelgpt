{
 "cells": [
  {
   "cell_type": "code",
   "execution_count": null,
   "id": "a8f25c6f-a72f-4db0-a873-1dae2a924065",
   "metadata": {},
   "outputs": [],
   "source": [
    "import shutil\n",
    "import os\n",
    "import random\n",
    "\n",
    "import numpy as np\n",
    "\n",
    "import fiftyone as fo\n",
    "import fiftyone.zoo as foz"
   ]
  },
  {
   "cell_type": "code",
   "execution_count": null,
   "id": "419cb7dd-d164-402d-8358-d7daa12e7467",
   "metadata": {},
   "outputs": [],
   "source": [
    "DSETNAME = 'qsv-test00'\n",
    "if fo.dataset_exists(DSETNAME):\n",
    "    fo.delete_dataset(DSETNAME)\n",
    "    \n",
    "dsv = foz.load_zoo_dataset('quickstart-video',dataset_name=DSETNAME)\n",
    "dsv.compute_metadata()\n",
    "dsv.ensure_frames()\n",
    "dsv.persistent=True\n",
    "\n",
    "dets = dsv.values('frames.detections')\n",
    "dsv.set_values('frames.dets_mnet',dets)\n",
    "\n",
    "dsv.delete_frame_field('frames.detections')"
   ]
  },
  {
   "cell_type": "code",
   "execution_count": null,
   "id": "9037404a-3510-4a65-8f27-0613703c3e6e",
   "metadata": {},
   "outputs": [],
   "source": [
    "# tags\n",
    "set = np.random.randint(0,2,len(dsv),dtype=np.bool)\n",
    "dsv[set].tag_samples('Intruder')\n",
    "set = np.random.randint(0,2,len(dsv),dtype=np.bool)\n",
    "dsv[set].tag_samples('Safe')\n",
    "\n",
    "# classes\n",
    "CLASSES = ['sunny', 'rainy', 'hailing']\n",
    "num_class = len(CLASSES)\n",
    "for s in dsv.iter_samples(autosave=True):\n",
    "    icls = np.random.randint(0,num_class)\n",
    "    conf = np.random.random()\n",
    "    c = fo.Classification(label=CLASSES[icls],confidence=conf)\n",
    "    s['weather'] = c\n",
    "    \n",
    "# tempdets\n",
    "CLASSES = ['vehicle','person','animal']\n",
    "for s in dsv.iter_samples(autosave=True):\n",
    "    nf = s.metadata.total_frame_count\n",
    "    icls = np.random.randint(0,num_class)\n",
    "    conf = np.random.random()\n",
    "    f0 = np.random.randint(0,nf)\n",
    "    f1 = np.random.randint(0,nf)\n",
    "    if f0 > f1:\n",
    "        tmp = f0\n",
    "        f0 = f1\n",
    "        f1 = tmp\n",
    "    s['objects'] = fo.TemporalDetection(label=CLASSES[icls],\n",
    "                                        support=[f0,f1],\n",
    "                                        confidence=conf)\n",
    "    \n",
    "# frame classes\n",
    "for s in dsv.iter_samples(autosave=True):\n",
    "    for f,frm in s.frames.items():\n",
    "        if np.random.random()>0.95:\n",
    "            icls = np.random.randint(0,num_class)\n",
    "            conf = np.random.random()\n",
    "            c = fo.Classification(label=CLASSES[icls],confidence=conf)\n",
    "            frm['intruder'] = c\n",
    "            frm.save()\n",
    "                             "
   ]
  }
 ],
 "metadata": {
  "kernelspec": {
   "display_name": "Python 3 (ipykernel)",
   "language": "python",
   "name": "python3"
  },
  "language_info": {
   "codemirror_mode": {
    "name": "ipython",
    "version": 3
   },
   "file_extension": ".py",
   "mimetype": "text/x-python",
   "name": "python",
   "nbconvert_exporter": "python",
   "pygments_lexer": "ipython3",
   "version": "3.10.11"
  }
 },
 "nbformat": 4,
 "nbformat_minor": 5
}
