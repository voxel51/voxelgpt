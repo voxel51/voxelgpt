{
 "cells": [
  {
   "cell_type": "code",
   "execution_count": 1,
   "id": "d3fda116-9d20-4c26-91c9-ea999b84c7f4",
   "metadata": {
    "tags": []
   },
   "outputs": [
    {
     "name": "stdout",
     "output_type": "stream",
     "text": [
      "0.20.1\n"
     ]
    }
   ],
   "source": [
    "import random\n",
    "import numpy as np\n",
    "\n",
    "import fiftyone as fo\n",
    "import fiftyone.zoo as foz\n",
    "import fiftyone.brain as fob\n",
    "from fiftyone import ViewField as F\n",
    "\n",
    "print(fo.__version__)"
   ]
  },
  {
   "cell_type": "code",
   "execution_count": 18,
   "id": "f817b221-1cc1-4210-a57d-4ec6e8184701",
   "metadata": {
    "tags": []
   },
   "outputs": [
    {
     "name": "stdout",
     "output_type": "stream",
     "text": [
      "Dataset already downloaded\n",
      "Loading 'quickstart'\n",
      " 100% |█████████████████| 200/200 [2.0s elapsed, 0s remaining, 99.4 samples/s]          \n",
      "Dataset 'qs-eval' created\n"
     ]
    }
   ],
   "source": [
    "dsetname = 'qs-eval'\n",
    "if fo.dataset_exists(dsetname):\n",
    "    fo.delete_dataset(dsetname)\n",
    "    \n",
    "ds = foz.load_zoo_dataset('quickstart',dataset_name=dsetname)\n",
    "ds.persistent=True"
   ]
  },
  {
   "cell_type": "code",
   "execution_count": 19,
   "id": "d3f5e245-e57e-4119-ae4a-73ab5d5ff7e1",
   "metadata": {
    "tags": []
   },
   "outputs": [],
   "source": [
    "ds.rename_sample_field('ground_truth','labels')\n",
    "v = ds.values('predictions')\n",
    "ds.rename_sample_field('predictions','model_rn50_00')\n",
    "for s in ds:\n",
    "    dets0 = s.model_rn50_00\n",
    "    dets1 = dets0.copy()\n",
    "    dets2 = dets0.copy()\n",
    "    s['model_rn75_00'] = dets1\n",
    "    s['model_rn75_01'] = dets2\n",
    "    s.save()"
   ]
  },
  {
   "cell_type": "code",
   "execution_count": 26,
   "id": "06a78bbc-98b4-4189-a5fa-96886586a3f7",
   "metadata": {
    "tags": []
   },
   "outputs": [
    {
     "name": "stdout",
     "output_type": "stream",
     "text": [
      "Computing embeddings...\n",
      " 100% |█████████████████| 200/200 [9.4s elapsed, 0s remaining, 19.5 samples/s]      \n",
      "Computing patch embeddings...\n"
     ]
    },
    {
     "name": "stderr",
     "output_type": "stream",
     "text": [
      "/home/allen/venv/chat/lib/python3.10/site-packages/torchvision/models/_utils.py:208: UserWarning: The parameter 'pretrained' is deprecated since 0.13 and may be removed in the future, please use 'weights' instead.\n",
      "  warnings.warn(\n",
      "/home/allen/venv/chat/lib/python3.10/site-packages/torchvision/models/_utils.py:223: UserWarning: Arguments other than a weight enum or `None` for 'weights' are deprecated since 0.13 and may be removed in the future. The current behavior is equivalent to passing `weights=ResNet18_Weights.IMAGENET1K_V1`. You can also use `weights=ResNet18_Weights.DEFAULT` to get the most up-to-date weights.\n",
      "  warnings.warn(msg)\n"
     ]
    },
    {
     "name": "stdout",
     "output_type": "stream",
     "text": []
    },
    {
     "name": "stdout",
     "output_type": "stream",
     "text": [
      " 100% |█████████████████| 200/200 [1.4m elapsed, 0s remaining, 2.6 samples/s]       \n",
      "Computing embeddings...\n",
      " 100% |█████████████████| 200/200 [1.2s elapsed, 0s remaining, 171.3 samples/s]         \n",
      "Computing uniqueness...\n",
      "Uniqueness computation complete\n"
     ]
    }
   ],
   "source": [
    "fob.compute_similarity(\n",
    "    ds,\n",
    "    model=\"clip-vit-base32-torch\",\n",
    "    brain_key=\"img_sim\",\n",
    ")\n",
    "\n",
    "# Index ground truth objects by similarity\n",
    "fob.compute_similarity(\n",
    "    ds,\n",
    "    patches_field=\"labels\",\n",
    "    model=\"resnet18-imagenet-torch\",\n",
    "    brain_key=\"gt_sim\",\n",
    ")\n",
    "\n",
    "fob.compute_uniqueness(ds)"
   ]
  },
  {
   "cell_type": "code",
   "execution_count": 27,
   "id": "4210e0f8-9fa7-475c-a24a-ce5cd50584b0",
   "metadata": {
    "tags": []
   },
   "outputs": [
    {
     "name": "stdout",
     "output_type": "stream",
     "text": [
      "Evaluating detections...\n",
      " 100% |█████████████████| 200/200 [10.5s elapsed, 0s remaining, 13.8 samples/s]      \n",
      "Evaluating detections...\n",
      " 100% |█████████████████| 200/200 [12.1s elapsed, 0s remaining, 12.3 samples/s]      \n",
      "Evaluating detections...\n",
      " 100% |█████████████████| 200/200 [27.0s elapsed, 0s remaining, 2.5 samples/s]       \n",
      "Evaluating detections...\n",
      " 100% |█████████████████| 200/200 [31.6s elapsed, 0s remaining, 5.9 samples/s]       \n",
      "Evaluating detections...\n",
      " 100% |█████████████████| 200/200 [25.0s elapsed, 0s remaining, 7.3 samples/s]       \n",
      "Evaluating detections...\n",
      " 100% |█████████████████| 200/200 [16.8s elapsed, 0s remaining, 9.1 samples/s]       \n",
      "Evaluating detections...\n",
      " 100% |█████████████████| 200/200 [11.5s elapsed, 0s remaining, 12.8 samples/s]      \n",
      "Evaluating detections...\n",
      " 100% |█████████████████| 200/200 [16.9s elapsed, 0s remaining, 6.6 samples/s]      \n",
      "Evaluating detections...\n",
      " 100% |█████████████████| 200/200 [30.0s elapsed, 0s remaining, 5.4 samples/s]       \n"
     ]
    }
   ],
   "source": [
    "models = ['model_rn50_00','model_rn75_00','model_rn75_01']\n",
    "for m in models:\n",
    "    res = ds.evaluate_detections(\n",
    "        m,\n",
    "        gt_field=\"labels\",\n",
    "        eval_key=f\"eval_{m}\",\n",
    "    )\n",
    "    res = ds.evaluate_detections(\n",
    "        m,\n",
    "        gt_field=\"labels\",\n",
    "        eval_key=f\"eval_{m}_iou08\",\n",
    "        iou=0.8,\n",
    "    )\n",
    "    res = ds.evaluate_detections(\n",
    "        m,\n",
    "        gt_field=\"labels\",\n",
    "        eval_key=f\"eval_{m}_oi\",\n",
    "        method='open-images',\n",
    "    )"
   ]
  },
  {
   "cell_type": "code",
   "execution_count": 36,
   "id": "d232920f-958d-4b85-9e9c-5abbd3266522",
   "metadata": {
    "tags": []
   },
   "outputs": [],
   "source": [
    "import random\n",
    "import datetime\n",
    "import uuid"
   ]
  },
  {
   "cell_type": "code",
   "execution_count": 46,
   "id": "73cfc4f5-07f7-40e7-9990-6e4d385eb0a0",
   "metadata": {
    "tags": []
   },
   "outputs": [
    {
     "name": "stdout",
     "output_type": "stream",
     "text": [
      "qs-eval\n",
      "True\n"
     ]
    }
   ],
   "source": [
    "# random metadata\n",
    "for s in ds:\n",
    "    s['datetime'] = datetime.datetime.fromtimestamp(random.randint(1,1000))\n",
    "    s['weather'] = random.choice(('cloudy','sunny','raining','hailing','snowing','clear','windy'))\n",
    "    s['weather_note'] = random.choice(('cloudy','sunny','raining','hailing','snowing','clear','windy'))\n",
    "    s['zipcode'] = random.choice(('07920','07921','74054','60540','60563','60562'))\n",
    "    s['username'] = random.choice(('joe','jane','alex','trish','moe','larry','sheila'))\n",
    "    s['class'] = random.randint(1,10)\n",
    "    s['stat_train'] = random.random()*100\n",
    "    s['uuid'] = str(uuid.uuid4())\n",
    "    s.save()\n",
    "ds.save()\n",
    "print(ds.name)\n",
    "print(ds.persistent)"
   ]
  },
  {
   "cell_type": "code",
   "execution_count": null,
   "id": "5ca76de0-da80-40f9-9351-70f2e164b824",
   "metadata": {
    "tags": []
   },
   "outputs": [],
   "source": []
  },
  {
   "cell_type": "markdown",
   "id": "10f26aa8-eaea-4bcb-9609-51978b3abbed",
   "metadata": {
    "tags": []
   },
   "source": [
    "# ---- random working stuff below ----"
   ]
  },
  {
   "cell_type": "code",
   "execution_count": null,
   "id": "f3f3d77e-fb4c-419c-b588-393c834bba6b",
   "metadata": {
    "tags": []
   },
   "outputs": [],
   "source": [
    "CLSES = [str(x) for x in range(5)]\n",
    "\n",
    "def jitter(val):\n",
    "    if random.random() < 0.10:\n",
    "        return random.choice(CLSES)\n",
    "\n",
    "    return val\n",
    "\n",
    "def newval():\n",
    "    return random.choice(CLSES)\n",
    "\n",
    "def newval_logits():\n",
    "    logits = [random.random() for c in CLSES]\n",
    "    lbl = CLSES[np.argmax(logits)]\n",
    "    conf = random.random()\n",
    "    return lbl, conf, logits\n",
    "    "
   ]
  },
  {
   "cell_type": "code",
   "execution_count": null,
   "id": "f3705e39-96cc-4ea7-9d4f-5eb00a6427da",
   "metadata": {
    "tags": []
   },
   "outputs": [],
   "source": [
    "#vals_gt = [newval() for s in ds]\n",
    "#vals_pd = [jitter(x) for x in vals_gt]\n",
    "\n",
    "vals_gt = [newval_logits() for s in ds]\n",
    "vals_pd = [newval_logits() for s in ds]\n",
    "vals_pd2 = [newval_logits() for s in ds]\n",
    "\n",
    "vals_gt = [fo.Classification(label=l,confidence=c,logits=log) for l,c,log in vals_gt]\n",
    "vals_pd = [fo.Classification(label=l,confidence=c,logits=log) for l,c,log in vals_pd]\n",
    "vals_pd2 = [fo.Classification(label=l,confidence=c,logits=log) for l,c,log in vals_pd2]\n",
    "\n",
    "ds.set_values('cls_gt',vals_gt)\n",
    "ds.set_values('cls_pd',vals_pd)\n",
    "ds.set_values('cls_pd2',vals_pd2)"
   ]
  },
  {
   "cell_type": "code",
   "execution_count": null,
   "id": "a6d6c37b-6539-4a73-b303-816de2753ef9",
   "metadata": {
    "tags": []
   },
   "outputs": [],
   "source": [
    "ds.save()\n",
    "print(ds)\n",
    "s=ds.first()"
   ]
  },
  {
   "cell_type": "code",
   "execution_count": null,
   "id": "326e97dd-217a-4b3c-90ab-ca451965a2a3",
   "metadata": {
    "tags": []
   },
   "outputs": [],
   "source": [
    "# clsification eval: \n",
    "results = ds.evaluate_classifications(\n",
    "    \"cls_pd\",\n",
    "    gt_field=\"cls_gt\",\n",
    "    eval_key=\"eval_cls\",\n",
    ")\n",
    "\n",
    "results = ds.evaluate_classifications(\n",
    "    \"cls_pd2\",\n",
    "    gt_field=\"cls_gt\",\n",
    "    eval_key=\"eval_cls2\",\n",
    ")\n"
   ]
  },
  {
   "cell_type": "code",
   "execution_count": null,
   "id": "bf7a15fe-de87-42fc-88c3-1ddb9844aa6a",
   "metadata": {
    "tags": []
   },
   "outputs": [],
   "source": [
    "# topk\n",
    "results = ds.evaluate_classifications(\n",
    "    \"cls_pd\",\n",
    "    gt_field=\"cls_gt\",\n",
    "    eval_key=\"eval_cls_topk\",\n",
    "    method=\"top-k\",\n",
    "    classes=CLSES,\n",
    "    k=3)\n",
    "\n",
    "results = ds.evaluate_classifications(\n",
    "    \"cls_pd2\",\n",
    "    gt_field=\"cls_gt\",\n",
    "    eval_key=\"eval_cls2_topk\",\n",
    "    method=\"top-k\",\n",
    "    classes=CLSES,\n",
    "    k=3)"
   ]
  },
  {
   "cell_type": "code",
   "execution_count": null,
   "id": "93cfaa61-874f-4d73-b594-fe6c6b788561",
   "metadata": {
    "tags": []
   },
   "outputs": [],
   "source": [
    "fob.compute_hardness(ds,'cls_pd')"
   ]
  },
  {
   "cell_type": "code",
   "execution_count": null,
   "id": "358e9238-9476-446b-bc5c-ff3616bfa85c",
   "metadata": {
    "tags": []
   },
   "outputs": [],
   "source": [
    "ifos = [ds.get_evaluation_info(x) for x in ds.list_evaluations()]\n",
    "print(ifos)"
   ]
  },
  {
   "cell_type": "code",
   "execution_count": null,
   "id": "f2ca625b-17bc-4769-b8b9-15fed4212b56",
   "metadata": {},
   "outputs": [],
   "source": [
    "list_evaluations\n",
    "i=ds.get_evaluation_info()\n",
    "#h=ds.has_evaluaion\n",
    "load_evaluation_results\n",
    "laod_evaluation_view\n",
    "to_evaluation_pathes"
   ]
  },
  {
   "cell_type": "code",
   "execution_count": null,
   "id": "cd7c861f",
   "metadata": {},
   "outputs": [],
   "source": []
  },
  {
   "cell_type": "markdown",
   "id": "5a7f42b3",
   "metadata": {},
   "source": []
  },
  {
   "cell_type": "markdown",
   "id": "4aafae68",
   "metadata": {},
   "source": [
    "### test 1: multiple pred fields\n"
   ]
  },
  {
   "cell_type": "code",
   "execution_count": null,
   "id": "23f95315",
   "metadata": {},
   "outputs": [],
   "source": [
    "ds = foz.load_zoo_dataset('quickstart')"
   ]
  },
  {
   "cell_type": "code",
   "execution_count": null,
   "id": "47b26565",
   "metadata": {},
   "outputs": [],
   "source": [
    "for s in ds:\n",
    "    dets = s.predictions.detections.copy()\n",
    "    s['new_preds'] = fo.Detections(detections=dets)\n",
    "    s.save()\n",
    "print(ds)"
   ]
  },
  {
   "cell_type": "code",
   "execution_count": null,
   "id": "f57ec6f1",
   "metadata": {},
   "outputs": [],
   "source": [
    "res0 = ds.evaluate_detections(\n",
    "    \"predictions\",\n",
    "    gt_field=\"ground_truth\",\n",
    "    eval_key=\"eval_preds\",\n",
    ")\n",
    "res1 = ds.evaluate_detections(\n",
    "    \"new_preds\",\n",
    "    gt_field=\"ground_truth\",\n",
    "    eval_key=\"eval_new\",\n",
    ")"
   ]
  },
  {
   "cell_type": "code",
   "execution_count": null,
   "id": "1a44beab",
   "metadata": {},
   "outputs": [],
   "source": [
    "print(ds.list_evaluations())\n",
    "ds.name='ds_chat_2detpreds'\n",
    "ds.persistent=True"
   ]
  },
  {
   "cell_type": "markdown",
   "id": "9d80dbc1",
   "metadata": {},
   "source": [
    "### test 2: multiple gt fields\n"
   ]
  },
  {
   "cell_type": "code",
   "execution_count": 1,
   "id": "9d3c3b79",
   "metadata": {},
   "outputs": [
    {
     "name": "stdout",
     "output_type": "stream",
     "text": [
      "Dataset already downloaded\n",
      "Loading 'quickstart'\n",
      " 100% |█████████████████| 200/200 [2.1s elapsed, 0s remaining, 98.0 samples/s]          \n",
      "Dataset 'quickstart' created\n",
      "Name:        quickstart\n",
      "Media type:  image\n",
      "Num samples: 200\n",
      "Persistent:  False\n",
      "Tags:        []\n",
      "Sample fields:\n",
      "    id:           fiftyone.core.fields.ObjectIdField\n",
      "    filepath:     fiftyone.core.fields.StringField\n",
      "    tags:         fiftyone.core.fields.ListField(fiftyone.core.fields.StringField)\n",
      "    metadata:     fiftyone.core.fields.EmbeddedDocumentField(fiftyone.core.metadata.ImageMetadata)\n",
      "    ground_truth: fiftyone.core.fields.EmbeddedDocumentField(fiftyone.core.labels.Detections)\n",
      "    uniqueness:   fiftyone.core.fields.FloatField\n",
      "    predictions:  fiftyone.core.fields.EmbeddedDocumentField(fiftyone.core.labels.Detections)\n",
      "    gt_new:       fiftyone.core.fields.EmbeddedDocumentField(fiftyone.core.labels.Detections)\n",
      "Evaluating detections...\n",
      " 100% |█████████████████| 200/200 [10.7s elapsed, 0s remaining, 13.6 samples/s]      \n",
      "Evaluating detections...\n",
      " 100% |█████████████████| 200/200 [12.0s elapsed, 0s remaining, 12.2 samples/s]      \n",
      "['eval', 'eval_newgt']\n"
     ]
    }
   ],
   "source": [
    "\n",
    "ds = foz.load_zoo_dataset('quickstart')\n",
    "for s in ds:\n",
    "    dets = s.ground_truth.detections.copy()\n",
    "    s['gt_new'] = fo.Detections(detections=dets)\n",
    "    s.save()\n",
    "print(ds)\n",
    "res0 = ds.evaluate_detections(\n",
    "    \"predictions\",\n",
    "    gt_field=\"ground_truth\",\n",
    "    eval_key=\"eval\",\n",
    ")\n",
    "res1 = ds.evaluate_detections(\n",
    "    \"predictions\",\n",
    "    gt_field=\"gt_new\",\n",
    "    eval_key=\"eval_newgt\",\n",
    ")\n",
    "print(ds.list_evaluations())\n",
    "ds.name='ds_chat_2detGTs'\n",
    "ds.persistent=True"
   ]
  },
  {
   "cell_type": "markdown",
   "id": "b64e3b0f",
   "metadata": {},
   "source": [
    "### test3: multiple IOU thresholds"
   ]
  },
  {
   "cell_type": "code",
   "execution_count": 2,
   "id": "7e7a0159",
   "metadata": {},
   "outputs": [
    {
     "name": "stdout",
     "output_type": "stream",
     "text": [
      "Dataset already downloaded\n",
      "Loading 'quickstart'\n",
      " 100% |█████████████████| 200/200 [2.0s elapsed, 0s remaining, 100.4 samples/s]         \n",
      "Dataset 'quickstart' created\n",
      "Evaluating detections...\n",
      " 100% |█████████████████| 200/200 [10.6s elapsed, 0s remaining, 14.0 samples/s]      \n",
      "Evaluating detections...\n",
      " 100% |█████████████████| 200/200 [11.7s elapsed, 0s remaining, 12.7 samples/s]      \n",
      "['eval_det_normal', 'eval_det_tight']\n"
     ]
    }
   ],
   "source": [
    "ds = foz.load_zoo_dataset('quickstart')\n",
    "res0 = ds.evaluate_detections(\n",
    "    \"predictions\",\n",
    "    gt_field=\"ground_truth\",\n",
    "    eval_key=\"eval_det_normal\",\n",
    "    iou=0.6,\n",
    ")\n",
    "res1 = ds.evaluate_detections(\n",
    "    \"predictions\",\n",
    "    gt_field=\"ground_truth\",\n",
    "    eval_key=\"eval_det_tight\",\n",
    "    iou=0.9,\n",
    ")\n",
    "print(ds.list_evaluations())\n",
    "ds.name='ds_chat_2detIOUs'\n",
    "ds.persistent=True"
   ]
  },
  {
   "cell_type": "code",
   "execution_count": 4,
   "id": "8d3ed363",
   "metadata": {},
   "outputs": [
    {
     "data": {
      "text/plain": [
       "['ds_al_chat',\n",
       " 'ds_chat_2detGTs',\n",
       " 'ds_chat_2detIOUs',\n",
       " 'ds_chat_2detpreds',\n",
       " 'quickstart-video']"
      ]
     },
     "execution_count": 4,
     "metadata": {},
     "output_type": "execute_result"
    }
   ],
   "source": [
    "fo.list_datasets()"
   ]
  },
  {
   "cell_type": "code",
   "execution_count": null,
   "id": "eadc1faf",
   "metadata": {},
   "outputs": [],
   "source": []
  },
  {
   "cell_type": "markdown",
   "id": "ed984f58-3656-46f8-ad68-23a18e223d4b",
   "metadata": {},
   "source": [
    "### video"
   ]
  },
  {
   "cell_type": "code",
   "execution_count": 5,
   "id": "accf5b91-b48b-4667-81e5-ee58a78e5c14",
   "metadata": {
    "tags": []
   },
   "outputs": [],
   "source": [
    "import random\n",
    "import numpy as np"
   ]
  },
  {
   "cell_type": "code",
   "execution_count": 33,
   "id": "b8306d5e-64f9-40fa-9988-a1a1a501493e",
   "metadata": {
    "tags": []
   },
   "outputs": [
    {
     "name": "stdout",
     "output_type": "stream",
     "text": [
      "Dataset already downloaded\n",
      "Loading 'quickstart-video'\n",
      " 100% |███████████████████| 10/10 [4.4s elapsed, 0s remaining, 2.3 samples/s]      \n",
      "Dataset 'qsv-test00' created\n",
      "Computing metadata...\n",
      " 100% |███████████████████| 10/10 [224.2ms elapsed, 0s remaining, 44.6 samples/s] \n"
     ]
    }
   ],
   "source": [
    "DSETNAME = 'qsv-test00'\n",
    "if fo.dataset_exists(DSETNAME):\n",
    "    fo.delete_dataset(DSETNAME)\n",
    "    \n",
    "dsv = foz.load_zoo_dataset('quickstart-video',dataset_name=DSETNAME)\n",
    "dsv.compute_metadata()\n",
    "dsv.ensure_frames()\n",
    "dsv.persistent=True\n",
    "\n",
    "dets = dsv.values('frames.detections')\n",
    "dsv.set_values('frames.dets_mnet',dets)\n",
    "\n",
    "dsv.delete_frame_field('frames.detections')\n",
    "\n"
   ]
  },
  {
   "cell_type": "code",
   "execution_count": 34,
   "id": "3b039a95-c2ba-442a-a4c2-4c212ce66702",
   "metadata": {
    "tags": []
   },
   "outputs": [
    {
     "name": "stderr",
     "output_type": "stream",
     "text": [
      "/tmp/ipykernel_13427/1608527792.py:2: DeprecationWarning: `np.bool` is a deprecated alias for the builtin `bool`. To silence this warning, use `bool` by itself. Doing this will not modify any behavior and is safe. If you specifically wanted the numpy scalar type, use `np.bool_` here.\n",
      "Deprecated in NumPy 1.20; for more details and guidance: https://numpy.org/devdocs/release/1.20.0-notes.html#deprecations\n",
      "  set = np.random.randint(0,2,len(dsv),dtype=np.bool)\n",
      "/tmp/ipykernel_13427/1608527792.py:4: DeprecationWarning: `np.bool` is a deprecated alias for the builtin `bool`. To silence this warning, use `bool` by itself. Doing this will not modify any behavior and is safe. If you specifically wanted the numpy scalar type, use `np.bool_` here.\n",
      "Deprecated in NumPy 1.20; for more details and guidance: https://numpy.org/devdocs/release/1.20.0-notes.html#deprecations\n",
      "  set = np.random.randint(0,2,len(dsv),dtype=np.bool)\n"
     ]
    }
   ],
   "source": [
    "# tags\n",
    "set = np.random.randint(0,2,len(dsv),dtype=np.bool)\n",
    "dsv[set].tag_samples('Intruder')\n",
    "set = np.random.randint(0,2,len(dsv),dtype=np.bool)\n",
    "dsv[set].tag_samples('Safe')\n",
    "\n",
    "# classes\n",
    "CLASSES = ['sunny', 'rainy', 'hailing']\n",
    "num_class = len(CLASSES)\n",
    "for s in dsv.iter_samples(autosave=True):\n",
    "    icls = np.random.randint(0,num_class)\n",
    "    conf = np.random.random()\n",
    "    c = fo.Classification(label=CLASSES[icls],confidence=conf)\n",
    "    s['weather'] = c\n",
    "    \n",
    "# tempdets\n",
    "CLASSES = ['vehicle','person','animal']\n",
    "for s in dsv.iter_samples(autosave=True):\n",
    "    nf = s.metadata.total_frame_count\n",
    "    icls = np.random.randint(0,num_class)\n",
    "    conf = np.random.random()\n",
    "    f0 = np.random.randint(0,nf)\n",
    "    f1 = np.random.randint(0,nf)\n",
    "    if f0 > f1:\n",
    "        tmp = f0\n",
    "        f0 = f1\n",
    "        f1 = tmp\n",
    "    s['objects'] = fo.TemporalDetection(label=CLASSES[icls],\n",
    "                                        support=[f0,f1],\n",
    "                                        confidence=conf)\n",
    "    \n",
    "# frame classes\n",
    "for s in dsv.iter_samples(autosave=True):\n",
    "    for f,frm in s.frames.items():\n",
    "        if np.random.random()>0.95:\n",
    "            icls = np.random.randint(0,num_class)\n",
    "            conf = np.random.random()\n",
    "            c = fo.Classification(label=CLASSES[icls],confidence=conf)\n",
    "            frm['intruder'] = c\n",
    "            frm.save()\n",
    "                                    \n",
    "    \n",
    "    \n",
    "    \n",
    "    "
   ]
  },
  {
   "cell_type": "code",
   "execution_count": 36,
   "id": "8a739125-9de0-4e49-ae06-563e9b0938a6",
   "metadata": {
    "tags": []
   },
   "outputs": [],
   "source": [
    "\n"
   ]
  },
  {
   "cell_type": "code",
   "execution_count": null,
   "id": "bbd99044-b654-4a8b-a90e-bfdea92fe45d",
   "metadata": {},
   "outputs": [],
   "source": [
    "\n"
   ]
  }
 ],
 "metadata": {
  "kernelspec": {
   "display_name": "Python 3 (ipykernel)",
   "language": "python",
   "name": "python3"
  },
  "language_info": {
   "codemirror_mode": {
    "name": "ipython",
    "version": 3
   },
   "file_extension": ".py",
   "mimetype": "text/x-python",
   "name": "python",
   "nbconvert_exporter": "python",
   "pygments_lexer": "ipython3",
   "version": "3.10.11"
  }
 },
 "nbformat": 4,
 "nbformat_minor": 5
}
