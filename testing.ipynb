{
 "cells": [
  {
   "attachments": {},
   "cell_type": "markdown",
   "metadata": {},
   "source": [
    "## Relevant Links\n",
    "- Examples: https://docs.google.com/spreadsheets/d/14pdiODt9PmsD2F___Lpv2rO-RByTtC8PYcEfxL8iIuY/edit#gid=186467173\n",
    "- LangChain: https://github.com/hwchase17/langchain\n",
    "- Chroma: no docker or API_KEY - https://www.trychroma.com/\n",
    "- OpenAI account usage: https://platform.openai.com/account/usage"
   ]
  },
  {
   "attachments": {},
   "cell_type": "markdown",
   "metadata": {},
   "source": [
    "## Tasks\n",
    "\n",
    "- **Eric & Jacob**: Validation (`validate_stages.py` is not yet working, and has not been incorporated)\n",
    "- **Jacob**: Label class recognition\n",
    "    - determine what classes the user is referring to for each label field\n",
    "- **Allen**: Evaluation Identification Stage:\n",
    "    - `links/evaluation_run_selector.py` \n",
    "    - add stage to `dataset_view_generator.py`\n",
    "    - add `prompts/evaluation_task_rules.txt` prompt\n",
    "    - add examples to Examples spreadsheet in new tab, and then put in `examples` folder\n",
    "- **Leila**: Add support for `hardness` brain runs\n",
    "    - fill out the template in `links/brain_run_selector.py` \n",
    "    - add `prompts/hardness_task_rules.txt` prompt modeled after uniqueness and mistakenness.\n",
    "    - new examples tab `hardness` modeled after `uniqueness` and `mistakenness` tabs and then put in `examples` folder\n",
    "- **Vini**: More examples\n",
    "    - scrape examples from community Slack covering as wide a range of scenarios as possible\n",
    "    - complex filters and view expressions!\n",
    "    - videos\n",
    "    - every type of label\n",
    "    - varied naming conventions"
   ]
  },
  {
   "attachments": {},
   "cell_type": "markdown",
   "metadata": {},
   "source": [
    "## Additional notes\n",
    "\n",
    "- Want to validate embedded fields\n",
    "- At present, there is no support for multi-line Python code to generate views. It all needs to be done inline\n",
    "- No support for groups, 3D/point clouds, `concat()`, or `mongo()`."
   ]
  },
  {
   "cell_type": "markdown",
   "metadata": {},
   "source": [
    "## Getting started"
   ]
  },
  {
   "attachments": {},
   "cell_type": "markdown",
   "metadata": {},
   "source": [
    "`pip install openai langchain chroma`"
   ]
  },
  {
   "attachments": {},
   "cell_type": "markdown",
   "metadata": {},
   "source": [
    "Then create an OpenAI account and generate an API key"
   ]
  },
  {
   "attachments": {},
   "cell_type": "markdown",
   "metadata": {},
   "source": [
    "`export OPENAI_API_KEY=...`"
   ]
  },
  {
   "cell_type": "code",
   "execution_count": 2,
   "metadata": {},
   "outputs": [],
   "source": [
    "import fiftyone as fo\n",
    "dataset = fo.load_dataset(\"quickstart\")"
   ]
  },
  {
   "attachments": {},
   "cell_type": "markdown",
   "metadata": {},
   "source": [
    "## Get similar prompts"
   ]
  },
  {
   "cell_type": "code",
   "execution_count": 3,
   "metadata": {},
   "outputs": [],
   "source": [
    "from links.view_stage_example_selector import generate_view_stage_examples_prompt"
   ]
  },
  {
   "cell_type": "code",
   "execution_count": 4,
   "metadata": {},
   "outputs": [],
   "source": [
    "query = \"Five random images from the dataset\""
   ]
  },
  {
   "cell_type": "code",
   "execution_count": 5,
   "metadata": {},
   "outputs": [
    {
     "name": "stderr",
     "output_type": "stream",
     "text": [
      "Using embedded DuckDB without persistence: data will be transient\n"
     ]
    }
   ],
   "source": [
    "view_stage_examples_prompt = generate_view_stage_examples_prompt(dataset, query)"
   ]
  },
  {
   "cell_type": "code",
   "execution_count": 6,
   "metadata": {},
   "outputs": [
    {
     "name": "stdout",
     "output_type": "stream",
     "text": [
      "Generate code to produce the FiftyOne view stages for the following prompt:\n",
      "\n",
      "\n",
      "Input: show me 50 random samples\n",
      "Output: dataset.take(50)\n",
      "\n",
      "Input: Take two random samples from the dataset\n",
      "Output: dataset.take(2)\n",
      "\n",
      "Input: 10 most unique images\n",
      "Output: dataset.filter_labels(\"predictions\", F(\"confidence\") > 0.95)\n",
      "\n",
      "Input: 10 random images with tables\n",
      "Output: dataset.match(\n",
      "    F(\"ground_truth.detections.label\").contains(\"table\")\n",
      ").take(10)\n",
      "\n",
      "Input: show me random samples\n",
      "Output: dataset.shuffle()\n",
      "\n",
      "Input: skip the first 10 samples\n",
      "Output: dataset.skip(10)\n",
      "\n",
      "Input: first 100 samples\n",
      "Output: dataset.limit(100)\n",
      "\n",
      "Input: Don't show me the fifth and sixth samples\n",
      "Output: ids = [dataset.skip(4).first().id, dataset.skip(4).first().id];\n",
      "dataset.exclude(ids)\n",
      "\n",
      "Input: Images that only contain dogs\n",
      "Output: dataset.match(\n",
      "    F(\"ground_truth.detections.label\").is_subset([\"dog\"])\n",
      ")\n",
      "\n",
      "Input: ten least wrong predictions\n",
      "Output: dataset.sort_by(\"mistakenness\", reverse=False)[:10]\n",
      "\n",
      "Input: Five random images from the dataset\n",
      "Output:\n"
     ]
    }
   ],
   "source": [
    "print(view_stage_examples_prompt)"
   ]
  },
  {
   "attachments": {},
   "cell_type": "markdown",
   "metadata": {},
   "source": [
    "## Generate View Stage Descriptions Prompt"
   ]
  },
  {
   "cell_type": "code",
   "execution_count": 7,
   "metadata": {},
   "outputs": [],
   "source": [
    "from links.view_stage_description_selector import generate_view_stage_descriptions_prompt"
   ]
  },
  {
   "cell_type": "code",
   "execution_count": 8,
   "metadata": {},
   "outputs": [],
   "source": [
    "view_stage_descriptions_prompt = generate_view_stage_descriptions_prompt(view_stage_examples_prompt)"
   ]
  },
  {
   "cell_type": "code",
   "execution_count": 9,
   "metadata": {},
   "outputs": [
    {
     "name": "stdout",
     "output_type": "stream",
     "text": [
      "Here is some information about view stages you might want to use:\n",
      "\n",
      "\n",
      "    View stage: skip\n",
      "    Description: Omits the given number of samples from the head of the collection. Non-positive skip values result in no samples being omitted\n",
      "    Inputs: skip: int\n",
      "\n",
      "    \n",
      "\n",
      "    View stage: take\n",
      "    Description: Randomly samples the given number of samples from the collection\n",
      "    Inputs: size: int (non-positive values result in an empty view), seed: optional random seed to use for sample selection\n",
      "\n",
      "    \n",
      "\n",
      "    View stage: match\n",
      "    Description: Filters the samples in the collection by the given filter\n",
      "    Inputs: filter: ViewExpression or MongoDB expression that returns a boolean describing the filter to apply\n",
      "\n",
      "    \n",
      "\n",
      "    View stage: exclude\n",
      "    Description: Exclude samples with specified IDs\n",
      "    Inputs: sample_ids: IDs to exclude. Can be single ID, iterable of IDs, Sample or SampleView instances, iterable of Sample or SampleView instances, or SampleCollection\n",
      "\n",
      "    \n",
      "\n",
      "    View stage: filter_labels\n",
      "    Description: Filters Label field of each sample. For single Label fields, fields for which filter returns False are replaced with None. For Label list fields, label elements for which filter returns False are omitted from view\n",
      "    Inputs: field: label field to filter. filter: ViewExpression or MongoDB expression returning boolean describing filter to apply. only_matches (True): whether to only include samples with at least one label after filtering or include all samples. trajectories: whether to match entire object trajectories for which object matches given filter on at least one frame. Only applicable to datasets with videos and frame-level label fields whose objects have their index attributes populated\n",
      "\n",
      "    \n"
     ]
    }
   ],
   "source": [
    "print(view_stage_descriptions_prompt)"
   ]
  },
  {
   "attachments": {},
   "cell_type": "markdown",
   "metadata": {},
   "source": [
    "## Brain method selector"
   ]
  },
  {
   "cell_type": "code",
   "execution_count": 7,
   "metadata": {},
   "outputs": [],
   "source": [
    "from links.brain_method_selector import select_brain_methods"
   ]
  },
  {
   "cell_type": "code",
   "execution_count": 8,
   "metadata": {},
   "outputs": [
    {
     "data": {
      "text/plain": [
       "['uniqueness']"
      ]
     },
     "execution_count": 8,
     "metadata": {},
     "output_type": "execute_result"
    }
   ],
   "source": [
    "query = \"Five most unique images from the dataset\"\n",
    "select_brain_methods(query)"
   ]
  },
  {
   "cell_type": "code",
   "execution_count": 127,
   "metadata": {},
   "outputs": [
    {
     "data": {
      "text/plain": [
       "['uniqueness', 'hardness']"
      ]
     },
     "execution_count": 127,
     "metadata": {},
     "output_type": "execute_result"
    }
   ],
   "source": [
    "query = \"50 least unique images from the dataset that were hard\"\n",
    "select_brain_methods(query)"
   ]
  },
  {
   "cell_type": "code",
   "execution_count": 9,
   "metadata": {},
   "outputs": [
    {
     "data": {
      "text/plain": [
       "['mistakenness']"
      ]
     },
     "execution_count": 9,
     "metadata": {},
     "output_type": "execute_result"
    }
   ],
   "source": [
    "query = \"Five most mistaken images from the dataset\"\n",
    "select_brain_methods(query)"
   ]
  },
  {
   "attachments": {},
   "cell_type": "markdown",
   "metadata": {},
   "source": [
    "## Brain run selector"
   ]
  },
  {
   "cell_type": "code",
   "execution_count": 10,
   "metadata": {},
   "outputs": [],
   "source": [
    "from links.brain_run_selector import select_brain_runs"
   ]
  },
  {
   "cell_type": "code",
   "execution_count": 1,
   "metadata": {},
   "outputs": [],
   "source": [
    "import fiftyone as fo\n",
    "dataset = fo.load_dataset(\"quickstart\")"
   ]
  },
  {
   "cell_type": "code",
   "execution_count": 12,
   "metadata": {},
   "outputs": [
    {
     "data": {
      "text/plain": [
       "{'uniqueness': 'uniqueness1', 'image_similarity': 'img_sim'}"
      ]
     },
     "execution_count": 12,
     "metadata": {},
     "output_type": "execute_result"
    }
   ],
   "source": [
    "query = \"most unique images from the dataset with key 'uniqueness1 that are similar to image 10\"\n",
    "select_brain_runs(dataset, query, [\"uniqueness\", \"image_similarity\"])"
   ]
  },
  {
   "cell_type": "code",
   "execution_count": 16,
   "metadata": {},
   "outputs": [
    {
     "data": {
      "text/plain": [
       "{'mistakenness': 'mistakenness'}"
      ]
     },
     "execution_count": 16,
     "metadata": {},
     "output_type": "execute_result"
    }
   ],
   "source": [
    "query = \"Five most mistaken images from the dataset with ground truth field 'predictions\"\n",
    "select_brain_runs(dataset, query, [\"mistakenness\"])"
   ]
  },
  {
   "attachments": {},
   "cell_type": "markdown",
   "metadata": {},
   "source": [
    "## Field selector"
   ]
  },
  {
   "cell_type": "code",
   "execution_count": 1,
   "metadata": {},
   "outputs": [],
   "source": [
    "import fiftyone as fo\n",
    "dataset = fo.load_dataset(\"quickstart\")"
   ]
  },
  {
   "cell_type": "code",
   "execution_count": 2,
   "metadata": {},
   "outputs": [],
   "source": [
    "from links.field_selector import select_fields"
   ]
  },
  {
   "cell_type": "code",
   "execution_count": 8,
   "metadata": {},
   "outputs": [
    {
     "name": "stdout",
     "output_type": "stream",
     "text": [
      "[id: string, filepath: string, tags: list, ground_truth: Detections, predictions: Detections, classif: Classification, mistakenness1_eval_fp: int, pred1: Detections]\n",
      "[pred1]\n"
     ]
    }
   ],
   "source": [
    "query = \"sort pred1 by number of detections\"\n",
    "fields = select_fields(dataset, query)\n",
    "print(fields)"
   ]
  },
  {
   "attachments": {},
   "cell_type": "markdown",
   "metadata": {},
   "source": [
    "## Label class selector"
   ]
  },
  {
   "cell_type": "code",
   "execution_count": 1,
   "metadata": {},
   "outputs": [
    {
     "name": "stdout",
     "output_type": "stream",
     "text": [
      "Dataset already downloaded\n",
      "Loading existing dataset 'quickstart'. To reload from disk, either delete the existing dataset or provide a custom `dataset_name` to use\n"
     ]
    }
   ],
   "source": [
    "import fiftyone as fo\n",
    "import fiftyone.zoo as foz\n",
    "import fiftyone.brain as fob\n",
    "\n",
    "dataset = foz.load_zoo_dataset(\"quickstart\")"
   ]
  },
  {
   "cell_type": "code",
   "execution_count": 2,
   "metadata": {},
   "outputs": [],
   "source": [
    "from links.label_class_selector import select_label_classes"
   ]
  },
  {
   "cell_type": "code",
   "execution_count": 8,
   "metadata": {},
   "outputs": [
    {
     "name": "stdout",
     "output_type": "stream",
     "text": [
      "['Bear', 'glove']\n",
      "['airplane', 'apple', 'backpack', 'banana', 'baseball glove', 'bear', 'bed', 'bench', 'bicycle', 'bird', 'boat', 'book', 'bottle', 'bowl', 'broccoli', 'bus', 'cake', 'car', 'carrot', 'cat', 'cell phone', 'chair', 'clock', 'couch', 'cow', 'cup', 'dining table', 'dog', 'donut', 'elephant', 'fire hydrant', 'fork', 'frisbee', 'giraffe', 'hair drier', 'handbag', 'horse', 'hot dog', 'keyboard', 'kite', 'knife', 'laptop', 'microwave', 'motorcycle', 'mouse', 'orange', 'oven', 'parking meter', 'person', 'pizza', 'potted plant', 'refrigerator', 'remote', 'sandwich', 'scissors', 'sheep', 'sink', 'skateboard', 'skis', 'snowboard', 'spoon', 'sports ball', 'stop sign', 'suitcase', 'surfboard', 'teddy bear', 'tennis racket', 'tie', 'toaster', 'toilet', 'toothbrush', 'traffic light', 'train', 'truck', 'tv', 'umbrella', 'vase', 'wine glass', 'zebra']\n",
      "Matching Bear with bear\n",
      "['airplane', 'apple', 'backpack', 'banana', 'baseball glove', 'bear', 'bed', 'bench', 'bicycle', 'bird', 'boat', 'book', 'bottle', 'bowl', 'broccoli', 'bus', 'cake', 'car', 'carrot', 'cat', 'cell phone', 'chair', 'clock', 'couch', 'cow', 'cup', 'dining table', 'dog', 'donut', 'elephant', 'fire hydrant', 'fork', 'frisbee', 'giraffe', 'hair drier', 'handbag', 'horse', 'hot dog', 'keyboard', 'kite', 'knife', 'laptop', 'microwave', 'motorcycle', 'mouse', 'orange', 'oven', 'parking meter', 'person', 'pizza', 'potted plant', 'refrigerator', 'remote', 'sandwich', 'scissors', 'sheep', 'sink', 'skateboard', 'skis', 'snowboard', 'spoon', 'sports ball', 'stop sign', 'suitcase', 'surfboard', 'teddy bear', 'tennis racket', 'tie', 'toaster', 'toilet', 'toothbrush', 'traffic light', 'train', 'truck', 'tv', 'umbrella', 'vase', 'wine glass', 'zebra']\n",
      "Class name glove not found for label predictions\n",
      "{'predictions': ['bear', 'glove']}\n"
     ]
    }
   ],
   "source": [
    "query = \"sort Bear and glove predictions by number of detections\"\n",
    "prompt = select_label_classes(dataset, query, [\"predictions\"])\n",
    "print(prompt)"
   ]
  },
  {
   "cell_type": "code",
   "execution_count": 4,
   "metadata": {},
   "outputs": [],
   "source": [
    "sample = dataset.first()"
   ]
  },
  {
   "cell_type": "code",
   "execution_count": 49,
   "metadata": {},
   "outputs": [
    {
     "name": "stdout",
     "output_type": "stream",
     "text": [
      "<Sample: {\n",
      "    'id': '642f8fb7986dad05794d2b9d',\n",
      "    'media_type': 'image',\n",
      "    'filepath': '/Users/jacobmarks/fiftyone/quickstart/data/000880.jpg',\n",
      "    'tags': ['validation'],\n",
      "    'metadata': None,\n",
      "    'ground_truth': <Detections: {\n",
      "        'detections': [\n",
      "            <Detection: {\n",
      "                'id': '5f452471ef00e6374aac53c8',\n",
      "                'attributes': {},\n",
      "                'tags': [],\n",
      "                'label': 'bird',\n",
      "                'bounding_box': [0.21084375, 0.0034375, 0.46190625, 0.9442083333333334],\n",
      "                'mask': None,\n",
      "                'confidence': None,\n",
      "                'index': None,\n",
      "                'area': 73790.37944999996,\n",
      "                'iscrowd': 0.0,\n",
      "                'mistakenness': 0.01245725154876709,\n",
      "                'mistakenness_loc': 0.2903442955979618,\n",
      "                'mistakenness5': 0.01245725154876709,\n",
      "                'mistakenness5_loc': 0.2903442955979618,\n",
      "            }>,\n",
      "            <Detection: {\n",
      "                'id': '5f452471ef00e6374aac53c9',\n",
      "                'attributes': {},\n",
      "                'tags': [],\n",
      "                'label': 'bird',\n",
      "                'bounding_box': [0.74946875, 0.489375, 0.2164375, 0.23183333333333334],\n",
      "                'mask': None,\n",
      "                'confidence': None,\n",
      "                'index': None,\n",
      "                'area': 3935.7593000000006,\n",
      "                'iscrowd': 0.0,\n",
      "                'possible_spurious': True,\n",
      "            }>,\n",
      "            <Detection: {\n",
      "                'id': '5f452471ef00e6374aac53ca',\n",
      "                'attributes': {},\n",
      "                'tags': [],\n",
      "                'label': 'bird',\n",
      "                'bounding_box': [\n",
      "                    0.044234375,\n",
      "                    0.5282083333333333,\n",
      "                    0.151390625,\n",
      "                    0.14145833333333335,\n",
      "                ],\n",
      "                'mask': None,\n",
      "                'confidence': None,\n",
      "                'index': None,\n",
      "                'area': 4827.32605,\n",
      "                'iscrowd': 0.0,\n",
      "                'mistakenness': 0.17154088616371155,\n",
      "                'mistakenness_loc': 0.7474518661109917,\n",
      "                'mistakenness5': 0.17154088616371155,\n",
      "                'mistakenness5_loc': 0.7474518661109917,\n",
      "            }>,\n",
      "        ],\n",
      "    }>,\n",
      "    'predictions': <Detections: {\n",
      "        'detections': [\n",
      "            <Detection: {\n",
      "                'id': '5f452c60ef00e6374aad9394',\n",
      "                'attributes': {},\n",
      "                'tags': [],\n",
      "                'label': 'bird',\n",
      "                'bounding_box': [\n",
      "                    0.22192673683166503,\n",
      "                    0.06093006531397502,\n",
      "                    0.4808845520019531,\n",
      "                    0.8937615712483724,\n",
      "                ],\n",
      "                'mask': None,\n",
      "                'confidence': 0.9750854969024658,\n",
      "                'index': None,\n",
      "                'mistakenness1_eval': 'tp',\n",
      "                'mistakenness1_eval_id': '5f452c60ef00e6374aad9394',\n",
      "                'mistakenness1_eval_iou': 1.0,\n",
      "                'mistakenness1': 0.01245725154876709,\n",
      "                'mistakenness1_loc': 0.01245725154876709,\n",
      "            }>,\n",
      "            <Detection: {\n",
      "                'id': '5f452c60ef00e6374aad9395',\n",
      "                'attributes': {},\n",
      "                'tags': [],\n",
      "                'label': 'bird',\n",
      "                'bounding_box': [\n",
      "                    0.3962469816207886,\n",
      "                    0.006943931678930918,\n",
      "                    0.27418792247772217,\n",
      "                    0.46793556213378906,\n",
      "                ],\n",
      "                'mask': None,\n",
      "                'confidence': 0.759726881980896,\n",
      "                'index': None,\n",
      "                'mistakenness1_eval': 'tp',\n",
      "                'mistakenness1_eval_id': '5f452c60ef00e6374aad9395',\n",
      "                'mistakenness1_eval_iou': 0.9999999999999996,\n",
      "                'mistakenness1': 0.120136559009552,\n",
      "                'mistakenness1_loc': 0.12013655900955267,\n",
      "            }>,\n",
      "            <Detection: {\n",
      "                'id': '5f452c60ef00e6374aad9396',\n",
      "                'attributes': {},\n",
      "                'tags': [],\n",
      "                'label': 'bird',\n",
      "                'bounding_box': [\n",
      "                    0.02506386339664459,\n",
      "                    0.548487663269043,\n",
      "                    0.16438478231430054,\n",
      "                    0.16736234029134114,\n",
      "                ],\n",
      "                'mask': None,\n",
      "                'confidence': 0.6569182276725769,\n",
      "                'index': None,\n",
      "                'mistakenness1_eval': 'tp',\n",
      "                'mistakenness1_eval_id': '5f452c60ef00e6374aad9396',\n",
      "                'mistakenness1_eval_iou': 0.9999999999999998,\n",
      "                'mistakenness1': 0.17154088616371155,\n",
      "                'mistakenness1_loc': 0.17154088616371183,\n",
      "            }>,\n",
      "            <Detection: {\n",
      "                'id': '5f452c60ef00e6374aad9397',\n",
      "                'attributes': {},\n",
      "                'tags': [],\n",
      "                'label': 'bird',\n",
      "                'bounding_box': [\n",
      "                    0.4889101028442383,\n",
      "                    0.009576511383056641,\n",
      "                    0.13802199363708495,\n",
      "                    0.2093157132466634,\n",
      "                ],\n",
      "                'mask': None,\n",
      "                'confidence': 0.2359301745891571,\n",
      "                'index': None,\n",
      "                'mistakenness1_eval': 'tp',\n",
      "                'mistakenness1_eval_id': '5f452c60ef00e6374aad9397',\n",
      "                'mistakenness1_eval_iou': 0.9999999999999993,\n",
      "                'mistakenness1': 0.38203491270542145,\n",
      "                'mistakenness1_loc': 0.3820349127054218,\n",
      "            }>,\n",
      "            <Detection: {\n",
      "                'id': '5f452c60ef00e6374aad9398',\n",
      "                'attributes': {},\n",
      "                'tags': [],\n",
      "                'label': 'elephant',\n",
      "                'bounding_box': [\n",
      "                    0.015171945095062256,\n",
      "                    0.555288823445638,\n",
      "                    0.1813342332839966,\n",
      "                    0.15938574473063152,\n",
      "                ],\n",
      "                'mask': None,\n",
      "                'confidence': 0.221974179148674,\n",
      "                'index': None,\n",
      "                'mistakenness1_eval': 'tp',\n",
      "                'mistakenness1_eval_id': '5f452c60ef00e6374aad9398',\n",
      "                'mistakenness1_eval_iou': 0.9999999999999998,\n",
      "                'mistakenness1': 0.389012910425663,\n",
      "                'mistakenness1_loc': 0.3890129104256631,\n",
      "            }>,\n",
      "            <Detection: {\n",
      "                'id': '5f452c60ef00e6374aad9399',\n",
      "                'attributes': {},\n",
      "                'tags': [],\n",
      "                'label': 'bear',\n",
      "                'bounding_box': [\n",
      "                    0.017808181047439576,\n",
      "                    0.5488224665323893,\n",
      "                    0.17450940608978271,\n",
      "                    0.16891117095947267,\n",
      "                ],\n",
      "                'mask': None,\n",
      "                'confidence': 0.1965726613998413,\n",
      "                'index': None,\n",
      "                'mistakenness1_eval': 'tp',\n",
      "                'mistakenness1_eval_id': '5f452c60ef00e6374aad9399',\n",
      "                'mistakenness1_eval_iou': 0.9999999999999993,\n",
      "                'mistakenness1': 0.40171366930007935,\n",
      "                'mistakenness1_loc': 0.4017136693000796,\n",
      "            }>,\n",
      "            <Detection: {\n",
      "                'id': '5f452c60ef00e6374aad939a',\n",
      "                'attributes': {},\n",
      "                'tags': [],\n",
      "                'label': 'elephant',\n",
      "                'bounding_box': [\n",
      "                    0.16558188199996948,\n",
      "                    0.5723957061767578,\n",
      "                    0.09993256330490112,\n",
      "                    0.10098978678385416,\n",
      "                ],\n",
      "                'mask': None,\n",
      "                'confidence': 0.18904592096805573,\n",
      "                'index': None,\n",
      "                'mistakenness1_eval': 'tp',\n",
      "                'mistakenness1_eval_id': '5f452c60ef00e6374aad939a',\n",
      "                'mistakenness1_eval_iou': 1.0,\n",
      "                'mistakenness1': 0.40547703951597214,\n",
      "                'mistakenness1_loc': 0.40547703951597214,\n",
      "            }>,\n",
      "            <Detection: {\n",
      "                'id': '5f452c60ef00e6374aad939b',\n",
      "                'attributes': {},\n",
      "                'tags': [],\n",
      "                'label': 'sheep',\n",
      "                'bounding_box': [\n",
      "                    0.213010573387146,\n",
      "                    0.05354320605595907,\n",
      "                    0.5153374671936035,\n",
      "                    0.8933518091837566,\n",
      "                ],\n",
      "                'mask': None,\n",
      "                'confidence': 0.11480894684791565,\n",
      "                'index': None,\n",
      "                'mistakenness1_eval': 'tp',\n",
      "                'mistakenness1_eval_id': '5f452c60ef00e6374aad939b',\n",
      "                'mistakenness1_eval_iou': 1.0,\n",
      "                'mistakenness1': 0.4425955265760422,\n",
      "                'mistakenness1_loc': 0.4425955265760422,\n",
      "            }>,\n",
      "            <Detection: {\n",
      "                'id': '5f452c60ef00e6374aad939c',\n",
      "                'attributes': {},\n",
      "                'tags': [],\n",
      "                'label': 'bird',\n",
      "                'bounding_box': [\n",
      "                    0.29751906394958494,\n",
      "                    0.010790024201075237,\n",
      "                    0.3315577507019043,\n",
      "                    0.34026527404785156,\n",
      "                ],\n",
      "                'mask': None,\n",
      "                'confidence': 0.11089690029621124,\n",
      "                'index': None,\n",
      "                'mistakenness1_eval': 'tp',\n",
      "                'mistakenness1_eval_id': '5f452c60ef00e6374aad939c',\n",
      "                'mistakenness1_eval_iou': 1.0,\n",
      "                'mistakenness1': 0.4445515498518944,\n",
      "                'mistakenness1_loc': 0.4445515498518944,\n",
      "            }>,\n",
      "            <Detection: {\n",
      "                'id': '5f452c60ef00e6374aad939d',\n",
      "                'attributes': {},\n",
      "                'tags': [],\n",
      "                'label': 'elephant',\n",
      "                'bounding_box': [\n",
      "                    0.08351035118103027,\n",
      "                    0.5574632008870443,\n",
      "                    0.18209288120269776,\n",
      "                    0.1426785151163737,\n",
      "                ],\n",
      "                'mask': None,\n",
      "                'confidence': 0.0971052274107933,\n",
      "                'index': None,\n",
      "                'mistakenness1_eval': 'tp',\n",
      "                'mistakenness1_eval_id': '5f452c60ef00e6374aad939d',\n",
      "                'mistakenness1_eval_iou': 1.0,\n",
      "                'mistakenness1': 0.45144738629460335,\n",
      "                'mistakenness1_loc': 0.45144738629460335,\n",
      "            }>,\n",
      "            <Detection: {\n",
      "                'id': '5f452c60ef00e6374aad939e',\n",
      "                'attributes': {},\n",
      "                'tags': [],\n",
      "                'label': 'bird',\n",
      "                'bounding_box': [\n",
      "                    0.4461814880371094,\n",
      "                    0.0007838249827424685,\n",
      "                    0.209574556350708,\n",
      "                    0.309667714436849,\n",
      "                ],\n",
      "                'mask': None,\n",
      "                'confidence': 0.08403241634368896,\n",
      "                'index': None,\n",
      "                'mistakenness1_eval': 'tp',\n",
      "                'mistakenness1_eval_id': '5f452c60ef00e6374aad939e',\n",
      "                'mistakenness1_eval_iou': 1.0,\n",
      "                'mistakenness1': 0.4579837918281555,\n",
      "                'mistakenness1_loc': 0.4579837918281555,\n",
      "            }>,\n",
      "            <Detection: {\n",
      "                'id': '5f452c60ef00e6374aad939f',\n",
      "                'attributes': {},\n",
      "                'tags': [],\n",
      "                'label': 'bird',\n",
      "                'bounding_box': [\n",
      "                    0.5395165920257569,\n",
      "                    0.034476550420125325,\n",
      "                    0.07703280448913574,\n",
      "                    0.16296254793802897,\n",
      "                ],\n",
      "                'mask': None,\n",
      "                'confidence': 0.07699568569660187,\n",
      "                'index': None,\n",
      "                'mistakenness1_eval': 'tp',\n",
      "                'mistakenness1_eval_id': '5f452c60ef00e6374aad939f',\n",
      "                'mistakenness1_eval_iou': 1.0,\n",
      "                'mistakenness1': 0.46150215715169907,\n",
      "                'mistakenness1_loc': 0.46150215715169907,\n",
      "            }>,\n",
      "            <Detection: {\n",
      "                'id': '5f452c60ef00e6374aad93a0',\n",
      "                'attributes': {},\n",
      "                'tags': [],\n",
      "                'label': 'bear',\n",
      "                'bounding_box': [\n",
      "                    0.217216157913208,\n",
      "                    0.05954849322636922,\n",
      "                    0.49451656341552735,\n",
      "                    0.8721434275309244,\n",
      "                ],\n",
      "                'mask': None,\n",
      "                'confidence': 0.058097004890441895,\n",
      "                'index': None,\n",
      "                'mistakenness1_eval': 'tp',\n",
      "                'mistakenness1_eval_id': '5f452c60ef00e6374aad93a0',\n",
      "                'mistakenness1_eval_iou': 0.9999999999999998,\n",
      "                'mistakenness1': 0.47095149755477905,\n",
      "                'mistakenness1_loc': 0.47095149755477905,\n",
      "            }>,\n",
      "            <Detection: {\n",
      "                'id': '5f452c60ef00e6374aad93a1',\n",
      "                'attributes': {},\n",
      "                'tags': [],\n",
      "                'label': 'sheep',\n",
      "                'bounding_box': [\n",
      "                    0.018094074726104737,\n",
      "                    0.5562847137451172,\n",
      "                    0.17362892627716064,\n",
      "                    0.15742950439453124,\n",
      "                ],\n",
      "                'mask': None,\n",
      "                'confidence': 0.0519101656973362,\n",
      "                'index': None,\n",
      "                'mistakenness1_eval': 'tp',\n",
      "                'mistakenness1_eval_id': '5f452c60ef00e6374aad93a1',\n",
      "                'mistakenness1_eval_iou': 1.0,\n",
      "                'mistakenness1': 0.4740449171513319,\n",
      "                'mistakenness1_loc': 0.4740449171513319,\n",
      "            }>,\n",
      "        ],\n",
      "    }>,\n",
      "    'uniqueness': 0.8146274998417365,\n",
      "    'uniqueness1': 0.8146274998417365,\n",
      "    'classif': <Classification: {\n",
      "        'id': '643056b1a46e86b405a6881d',\n",
      "        'tags': [],\n",
      "        'label': 'alligator',\n",
      "        'confidence': None,\n",
      "        'logits': None,\n",
      "    }>,\n",
      "    'mistakenness': 0.17154088616371155,\n",
      "    'mistakenness1_eval_tp': 14,\n",
      "    'mistakenness1_eval_fp': 0,\n",
      "    'mistakenness1_eval_fn': 0,\n",
      "    'mistakenness1': 0.4740449171513319,\n",
      "    'possible_missing': 0,\n",
      "    'possible_spurious': 1,\n",
      "    'pred1': <Detections: {\n",
      "        'detections': [\n",
      "            <Detection: {\n",
      "                'id': '5f452c60ef00e6374aad9394',\n",
      "                'attributes': {},\n",
      "                'tags': [],\n",
      "                'label': 'bird',\n",
      "                'bounding_box': [\n",
      "                    0.22192673683166503,\n",
      "                    0.06093006531397502,\n",
      "                    0.4808845520019531,\n",
      "                    0.8937615712483724,\n",
      "                ],\n",
      "                'mask': None,\n",
      "                'confidence': 0.9750854969024658,\n",
      "                'index': None,\n",
      "                'mistakenness1_eval': 'tp',\n",
      "                'mistakenness1_eval_id': '5f452c60ef00e6374aad9394',\n",
      "                'mistakenness1_eval_iou': 1.0,\n",
      "                'mistakenness1': 0.01245725154876709,\n",
      "                'mistakenness1_loc': 0.01245725154876709,\n",
      "            }>,\n",
      "            <Detection: {\n",
      "                'id': '5f452c60ef00e6374aad9395',\n",
      "                'attributes': {},\n",
      "                'tags': [],\n",
      "                'label': 'bird',\n",
      "                'bounding_box': [\n",
      "                    0.3962469816207886,\n",
      "                    0.006943931678930918,\n",
      "                    0.27418792247772217,\n",
      "                    0.46793556213378906,\n",
      "                ],\n",
      "                'mask': None,\n",
      "                'confidence': 0.759726881980896,\n",
      "                'index': None,\n",
      "                'mistakenness1_eval': 'tp',\n",
      "                'mistakenness1_eval_id': '5f452c60ef00e6374aad9395',\n",
      "                'mistakenness1_eval_iou': 0.9999999999999996,\n",
      "                'mistakenness1': 0.120136559009552,\n",
      "                'mistakenness1_loc': 0.12013655900955267,\n",
      "            }>,\n",
      "            <Detection: {\n",
      "                'id': '5f452c60ef00e6374aad9396',\n",
      "                'attributes': {},\n",
      "                'tags': [],\n",
      "                'label': 'bird',\n",
      "                'bounding_box': [\n",
      "                    0.02506386339664459,\n",
      "                    0.548487663269043,\n",
      "                    0.16438478231430054,\n",
      "                    0.16736234029134114,\n",
      "                ],\n",
      "                'mask': None,\n",
      "                'confidence': 0.6569182276725769,\n",
      "                'index': None,\n",
      "                'mistakenness1_eval': 'tp',\n",
      "                'mistakenness1_eval_id': '5f452c60ef00e6374aad9396',\n",
      "                'mistakenness1_eval_iou': 0.9999999999999998,\n",
      "                'mistakenness1': 0.17154088616371155,\n",
      "                'mistakenness1_loc': 0.17154088616371183,\n",
      "            }>,\n",
      "            <Detection: {\n",
      "                'id': '5f452c60ef00e6374aad9397',\n",
      "                'attributes': {},\n",
      "                'tags': [],\n",
      "                'label': 'bird',\n",
      "                'bounding_box': [\n",
      "                    0.4889101028442383,\n",
      "                    0.009576511383056641,\n",
      "                    0.13802199363708495,\n",
      "                    0.2093157132466634,\n",
      "                ],\n",
      "                'mask': None,\n",
      "                'confidence': 0.2359301745891571,\n",
      "                'index': None,\n",
      "                'mistakenness1_eval': 'tp',\n",
      "                'mistakenness1_eval_id': '5f452c60ef00e6374aad9397',\n",
      "                'mistakenness1_eval_iou': 0.9999999999999993,\n",
      "                'mistakenness1': 0.38203491270542145,\n",
      "                'mistakenness1_loc': 0.3820349127054218,\n",
      "            }>,\n",
      "            <Detection: {\n",
      "                'id': '5f452c60ef00e6374aad9398',\n",
      "                'attributes': {},\n",
      "                'tags': [],\n",
      "                'label': 'elephant',\n",
      "                'bounding_box': [\n",
      "                    0.015171945095062256,\n",
      "                    0.555288823445638,\n",
      "                    0.1813342332839966,\n",
      "                    0.15938574473063152,\n",
      "                ],\n",
      "                'mask': None,\n",
      "                'confidence': 0.221974179148674,\n",
      "                'index': None,\n",
      "                'mistakenness1_eval': 'tp',\n",
      "                'mistakenness1_eval_id': '5f452c60ef00e6374aad9398',\n",
      "                'mistakenness1_eval_iou': 0.9999999999999998,\n",
      "                'mistakenness1': 0.389012910425663,\n",
      "                'mistakenness1_loc': 0.3890129104256631,\n",
      "            }>,\n",
      "            <Detection: {\n",
      "                'id': '5f452c60ef00e6374aad9399',\n",
      "                'attributes': {},\n",
      "                'tags': [],\n",
      "                'label': 'bear',\n",
      "                'bounding_box': [\n",
      "                    0.017808181047439576,\n",
      "                    0.5488224665323893,\n",
      "                    0.17450940608978271,\n",
      "                    0.16891117095947267,\n",
      "                ],\n",
      "                'mask': None,\n",
      "                'confidence': 0.1965726613998413,\n",
      "                'index': None,\n",
      "                'mistakenness1_eval': 'tp',\n",
      "                'mistakenness1_eval_id': '5f452c60ef00e6374aad9399',\n",
      "                'mistakenness1_eval_iou': 0.9999999999999993,\n",
      "                'mistakenness1': 0.40171366930007935,\n",
      "                'mistakenness1_loc': 0.4017136693000796,\n",
      "            }>,\n",
      "            <Detection: {\n",
      "                'id': '5f452c60ef00e6374aad939a',\n",
      "                'attributes': {},\n",
      "                'tags': [],\n",
      "                'label': 'elephant',\n",
      "                'bounding_box': [\n",
      "                    0.16558188199996948,\n",
      "                    0.5723957061767578,\n",
      "                    0.09993256330490112,\n",
      "                    0.10098978678385416,\n",
      "                ],\n",
      "                'mask': None,\n",
      "                'confidence': 0.18904592096805573,\n",
      "                'index': None,\n",
      "                'mistakenness1_eval': 'tp',\n",
      "                'mistakenness1_eval_id': '5f452c60ef00e6374aad939a',\n",
      "                'mistakenness1_eval_iou': 1.0,\n",
      "                'mistakenness1': 0.40547703951597214,\n",
      "                'mistakenness1_loc': 0.40547703951597214,\n",
      "            }>,\n",
      "            <Detection: {\n",
      "                'id': '5f452c60ef00e6374aad939b',\n",
      "                'attributes': {},\n",
      "                'tags': [],\n",
      "                'label': 'sheep',\n",
      "                'bounding_box': [\n",
      "                    0.213010573387146,\n",
      "                    0.05354320605595907,\n",
      "                    0.5153374671936035,\n",
      "                    0.8933518091837566,\n",
      "                ],\n",
      "                'mask': None,\n",
      "                'confidence': 0.11480894684791565,\n",
      "                'index': None,\n",
      "                'mistakenness1_eval': 'tp',\n",
      "                'mistakenness1_eval_id': '5f452c60ef00e6374aad939b',\n",
      "                'mistakenness1_eval_iou': 1.0,\n",
      "                'mistakenness1': 0.4425955265760422,\n",
      "                'mistakenness1_loc': 0.4425955265760422,\n",
      "            }>,\n",
      "            <Detection: {\n",
      "                'id': '5f452c60ef00e6374aad939c',\n",
      "                'attributes': {},\n",
      "                'tags': [],\n",
      "                'label': 'bird',\n",
      "                'bounding_box': [\n",
      "                    0.29751906394958494,\n",
      "                    0.010790024201075237,\n",
      "                    0.3315577507019043,\n",
      "                    0.34026527404785156,\n",
      "                ],\n",
      "                'mask': None,\n",
      "                'confidence': 0.11089690029621124,\n",
      "                'index': None,\n",
      "                'mistakenness1_eval': 'tp',\n",
      "                'mistakenness1_eval_id': '5f452c60ef00e6374aad939c',\n",
      "                'mistakenness1_eval_iou': 1.0,\n",
      "                'mistakenness1': 0.4445515498518944,\n",
      "                'mistakenness1_loc': 0.4445515498518944,\n",
      "            }>,\n",
      "            <Detection: {\n",
      "                'id': '5f452c60ef00e6374aad939d',\n",
      "                'attributes': {},\n",
      "                'tags': [],\n",
      "                'label': 'elephant',\n",
      "                'bounding_box': [\n",
      "                    0.08351035118103027,\n",
      "                    0.5574632008870443,\n",
      "                    0.18209288120269776,\n",
      "                    0.1426785151163737,\n",
      "                ],\n",
      "                'mask': None,\n",
      "                'confidence': 0.0971052274107933,\n",
      "                'index': None,\n",
      "                'mistakenness1_eval': 'tp',\n",
      "                'mistakenness1_eval_id': '5f452c60ef00e6374aad939d',\n",
      "                'mistakenness1_eval_iou': 1.0,\n",
      "                'mistakenness1': 0.45144738629460335,\n",
      "                'mistakenness1_loc': 0.45144738629460335,\n",
      "            }>,\n",
      "            <Detection: {\n",
      "                'id': '5f452c60ef00e6374aad939e',\n",
      "                'attributes': {},\n",
      "                'tags': [],\n",
      "                'label': 'bird',\n",
      "                'bounding_box': [\n",
      "                    0.4461814880371094,\n",
      "                    0.0007838249827424685,\n",
      "                    0.209574556350708,\n",
      "                    0.309667714436849,\n",
      "                ],\n",
      "                'mask': None,\n",
      "                'confidence': 0.08403241634368896,\n",
      "                'index': None,\n",
      "                'mistakenness1_eval': 'tp',\n",
      "                'mistakenness1_eval_id': '5f452c60ef00e6374aad939e',\n",
      "                'mistakenness1_eval_iou': 1.0,\n",
      "                'mistakenness1': 0.4579837918281555,\n",
      "                'mistakenness1_loc': 0.4579837918281555,\n",
      "            }>,\n",
      "            <Detection: {\n",
      "                'id': '5f452c60ef00e6374aad939f',\n",
      "                'attributes': {},\n",
      "                'tags': [],\n",
      "                'label': 'bird',\n",
      "                'bounding_box': [\n",
      "                    0.5395165920257569,\n",
      "                    0.034476550420125325,\n",
      "                    0.07703280448913574,\n",
      "                    0.16296254793802897,\n",
      "                ],\n",
      "                'mask': None,\n",
      "                'confidence': 0.07699568569660187,\n",
      "                'index': None,\n",
      "                'mistakenness1_eval': 'tp',\n",
      "                'mistakenness1_eval_id': '5f452c60ef00e6374aad939f',\n",
      "                'mistakenness1_eval_iou': 1.0,\n",
      "                'mistakenness1': 0.46150215715169907,\n",
      "                'mistakenness1_loc': 0.46150215715169907,\n",
      "            }>,\n",
      "            <Detection: {\n",
      "                'id': '5f452c60ef00e6374aad93a0',\n",
      "                'attributes': {},\n",
      "                'tags': [],\n",
      "                'label': 'bear',\n",
      "                'bounding_box': [\n",
      "                    0.217216157913208,\n",
      "                    0.05954849322636922,\n",
      "                    0.49451656341552735,\n",
      "                    0.8721434275309244,\n",
      "                ],\n",
      "                'mask': None,\n",
      "                'confidence': 0.058097004890441895,\n",
      "                'index': None,\n",
      "                'mistakenness1_eval': 'tp',\n",
      "                'mistakenness1_eval_id': '5f452c60ef00e6374aad93a0',\n",
      "                'mistakenness1_eval_iou': 0.9999999999999998,\n",
      "                'mistakenness1': 0.47095149755477905,\n",
      "                'mistakenness1_loc': 0.47095149755477905,\n",
      "            }>,\n",
      "            <Detection: {\n",
      "                'id': '5f452c60ef00e6374aad93a1',\n",
      "                'attributes': {},\n",
      "                'tags': [],\n",
      "                'label': 'sheep',\n",
      "                'bounding_box': [\n",
      "                    0.018094074726104737,\n",
      "                    0.5562847137451172,\n",
      "                    0.17362892627716064,\n",
      "                    0.15742950439453124,\n",
      "                ],\n",
      "                'mask': None,\n",
      "                'confidence': 0.0519101656973362,\n",
      "                'index': None,\n",
      "                'mistakenness1_eval': 'tp',\n",
      "                'mistakenness1_eval_id': '5f452c60ef00e6374aad93a1',\n",
      "                'mistakenness1_eval_iou': 1.0,\n",
      "                'mistakenness1': 0.4740449171513319,\n",
      "                'mistakenness1_loc': 0.4740449171513319,\n",
      "            }>,\n",
      "        ],\n",
      "    }>,\n",
      "    'mistakenness5': 0.17154088616371155,\n",
      "}>\n"
     ]
    }
   ],
   "source": [
    "print(sample)"
   ]
  },
  {
   "cell_type": "code",
   "execution_count": 45,
   "metadata": {},
   "outputs": [],
   "source": [
    "def get_field_type(dataset, field_name):\n",
    "    sample = dataset.first()\n",
    "    field = sample.get_field(field_name)\n",
    "    field_type = type(field).__name__\n",
    "    return field_type"
   ]
  },
  {
   "cell_type": "code",
   "execution_count": 52,
   "metadata": {},
   "outputs": [
    {
     "data": {
      "text/plain": [
       "'float'"
      ]
     },
     "execution_count": 52,
     "metadata": {},
     "output_type": "execute_result"
    }
   ],
   "source": [
    "get_field_type(dataset, \"mistakenness\")"
   ]
  },
  {
   "cell_type": "code",
   "execution_count": 43,
   "metadata": {},
   "outputs": [
    {
     "data": {
      "text/plain": [
       "'Detections'"
      ]
     },
     "execution_count": 43,
     "metadata": {},
     "output_type": "execute_result"
    }
   ],
   "source": [
    "str(type(sample.get_field(\"predictions\"))).split(\".\")[-1].split('\\'')[0]"
   ]
  },
  {
   "cell_type": "code",
   "execution_count": 13,
   "metadata": {},
   "outputs": [
    {
     "data": {
      "text/plain": [
       "['alligator']"
      ]
     },
     "execution_count": 13,
     "metadata": {},
     "output_type": "execute_result"
    }
   ],
   "source": [
    "dataset.distinct(\"classif.label\")"
   ]
  },
  {
   "cell_type": "code",
   "execution_count": null,
   "metadata": {},
   "outputs": [],
   "source": [
    "# dataset.select_labels"
   ]
  },
  {
   "cell_type": "code",
   "execution_count": 11,
   "metadata": {},
   "outputs": [
    {
     "data": {
      "text/plain": [
       "['airplane',\n",
       " 'apple',\n",
       " 'backpack',\n",
       " 'banana',\n",
       " 'baseball glove',\n",
       " 'bear',\n",
       " 'bed',\n",
       " 'bench',\n",
       " 'bicycle',\n",
       " 'bird',\n",
       " 'boat',\n",
       " 'book',\n",
       " 'bottle',\n",
       " 'bowl',\n",
       " 'broccoli',\n",
       " 'bus',\n",
       " 'cake',\n",
       " 'car',\n",
       " 'carrot',\n",
       " 'cat',\n",
       " 'cell phone',\n",
       " 'chair',\n",
       " 'clock',\n",
       " 'couch',\n",
       " 'cow',\n",
       " 'cup',\n",
       " 'dining table',\n",
       " 'dog',\n",
       " 'donut',\n",
       " 'elephant',\n",
       " 'fire hydrant',\n",
       " 'fork',\n",
       " 'frisbee',\n",
       " 'giraffe',\n",
       " 'hair drier',\n",
       " 'handbag',\n",
       " 'horse',\n",
       " 'hot dog',\n",
       " 'keyboard',\n",
       " 'kite',\n",
       " 'knife',\n",
       " 'laptop',\n",
       " 'microwave',\n",
       " 'motorcycle',\n",
       " 'mouse',\n",
       " 'orange',\n",
       " 'oven',\n",
       " 'parking meter',\n",
       " 'person',\n",
       " 'pizza',\n",
       " 'potted plant',\n",
       " 'refrigerator',\n",
       " 'remote',\n",
       " 'sandwich',\n",
       " 'scissors',\n",
       " 'sheep',\n",
       " 'sink',\n",
       " 'skateboard',\n",
       " 'skis',\n",
       " 'snowboard',\n",
       " 'spoon',\n",
       " 'sports ball',\n",
       " 'stop sign',\n",
       " 'suitcase',\n",
       " 'surfboard',\n",
       " 'teddy bear',\n",
       " 'tennis racket',\n",
       " 'tie',\n",
       " 'toaster',\n",
       " 'toilet',\n",
       " 'toothbrush',\n",
       " 'traffic light',\n",
       " 'train',\n",
       " 'truck',\n",
       " 'tv',\n",
       " 'umbrella',\n",
       " 'vase',\n",
       " 'wine glass',\n",
       " 'zebra']"
      ]
     },
     "execution_count": 11,
     "metadata": {},
     "output_type": "execute_result"
    }
   ],
   "source": [
    "dataset.distinct(\"predictions.detections.label\")"
   ]
  },
  {
   "cell_type": "code",
   "execution_count": 33,
   "metadata": {},
   "outputs": [
    {
     "data": {
      "text/plain": [
       "'64346d2a56f86d3fead8722d'"
      ]
     },
     "execution_count": 33,
     "metadata": {},
     "output_type": "execute_result"
    }
   ],
   "source": [
    "# sample = fo.Sample(filepath=\"/path/to/image.png\")\n",
    "\n",
    "# sample[\"ground_truth\"] = fo.Classifications(\n",
    "#     classifications=[\n",
    "#         fo.Classification(label=\"animal\"),\n",
    "#         fo.Classification(label=\"cat\"),\n",
    "#         fo.Classification(label=\"tabby\"),\n",
    "#     ]\n",
    "# )\n",
    "# sample[\"prediction\"] = fo.Classifications(\n",
    "#     classifications=[\n",
    "#         fo.Classification(label=\"animal\", confidence=0.99),\n",
    "#         fo.Classification(label=\"cat\", confidence=0.98),\n",
    "#         fo.Classification(label=\"tabby\", confidence=0.72),\n",
    "#     ]\n",
    "# )\n",
    "\n",
    "# print(sample)\n",
    "\n",
    "sample = fo.Sample(filepath=\"/path/to/image.png\")\n",
    "\n",
    "# A simple polyline\n",
    "polyline1 = fo.Polyline(\n",
    "    label=\"circle\",\n",
    "    points=[[(0.3, 0.3), (0.7, 0.3), (0.7, 0.3)]],\n",
    "    closed=False,\n",
    "    filled=False,\n",
    ")\n",
    "\n",
    "# A closed, filled polygon with a label\n",
    "polyline2 = fo.Polyline(\n",
    "    label=\"triangle\",\n",
    "    points=[[(0.1, 0.1), (0.3, 0.1), (0.3, 0.3)]],\n",
    "    closed=True,\n",
    "    filled=True,\n",
    ")\n",
    "\n",
    "sample[\"polylines\"] = fo.Polylines(polylines=[polyline1, polyline2])\n",
    "\n",
    "sample[\"polyline\"] = polyline2\n",
    "sample[\"classif\"] =fo.Classification(label=\"animal\", confidence=0.99)\n",
    "\n",
    "d = fo.Dataset()\n",
    "d.add_sample(sample)\n",
    "\n"
   ]
  },
  {
   "cell_type": "code",
   "execution_count": 28,
   "metadata": {},
   "outputs": [
    {
     "data": {
      "text/plain": [
       "['circle', 'triangle']"
      ]
     },
     "execution_count": 28,
     "metadata": {},
     "output_type": "execute_result"
    }
   ],
   "source": [
    "d.distinct(\"polylines.polylines.label\")"
   ]
  },
  {
   "cell_type": "code",
   "execution_count": 31,
   "metadata": {},
   "outputs": [
    {
     "data": {
      "text/plain": [
       "['triangle']"
      ]
     },
     "execution_count": 31,
     "metadata": {},
     "output_type": "execute_result"
    }
   ],
   "source": [
    "d.distinct(\"polyline.label\")"
   ]
  },
  {
   "cell_type": "code",
   "execution_count": 34,
   "metadata": {},
   "outputs": [
    {
     "data": {
      "text/plain": [
       "['animal']"
      ]
     },
     "execution_count": 34,
     "metadata": {},
     "output_type": "execute_result"
    }
   ],
   "source": [
    "d.distinct(\"classif.label\")"
   ]
  },
  {
   "attachments": {},
   "cell_type": "markdown",
   "metadata": {},
   "source": [
    "## DatasetView generator"
   ]
  },
  {
   "cell_type": "code",
   "execution_count": 1,
   "metadata": {},
   "outputs": [],
   "source": [
    "from gpt_view_generator import get_gpt_view_text"
   ]
  },
  {
   "cell_type": "code",
   "execution_count": 2,
   "metadata": {},
   "outputs": [],
   "source": [
    "import fiftyone as fo\n",
    "dataset = fo.load_dataset(\"quickstart\")"
   ]
  },
  {
   "cell_type": "code",
   "execution_count": 3,
   "metadata": {},
   "outputs": [
    {
     "name": "stderr",
     "output_type": "stream",
     "text": [
      "Using embedded DuckDB without persistence: data will be transient\n"
     ]
    },
    {
     "name": "stdout",
     "output_type": "stream",
     "text": [
      "Finding similar examples for query: images with tables\n",
      "Identified likely view stages: ['match', 'sort_by_similarity', 'skip', 'limit', 'shuffle', 'take', 'exclude', 'exists', 'filter_labels', 'select_fields']\n",
      "Identified brain methods: ['text_similarity']\n",
      "Identified brain runs: {'text_similarity': 'clip'}\n",
      "Identified potentially relevant fields: [ground_truth]\n",
      "Class name table not found for label ground_truth\n",
      "Identified label classes: {'ground_truth': ['table']}\n",
      "[match(\n",
      "    F(\"ground_truth.detections.label\").contains(\"table\")\n",
      ")]\n"
     ]
    }
   ],
   "source": [
    "query = \"images with tables\"\n",
    "view_text = get_gpt_view_text(dataset, query)\n",
    "print(view_text)"
   ]
  },
  {
   "cell_type": "code",
   "execution_count": 4,
   "metadata": {},
   "outputs": [
    {
     "name": "stderr",
     "output_type": "stream",
     "text": [
      "Using embedded DuckDB without persistence: data will be transient\n"
     ]
    },
    {
     "name": "stdout",
     "output_type": "stream",
     "text": [
      "Finding similar examples for query: high confidence detections\n",
      "Identified likely view stages: ['filter_labels', 'match', 'select_fields', 'exists', 'filter_field', 'set_field', 'match_labels', 'sort_by_similarity', 'exclude', 'exclude_by']\n",
      "Identified potentially relevant fields: [predictions]\n",
      "Identified label classes: {'predictions': []}\n",
      "[filter_labels(\"predictions\", F(\"confidence\") > 0.95)]\n"
     ]
    }
   ],
   "source": [
    "query = \"high confidence detections\"\n",
    "view_text = get_gpt_view_text(dataset, query)\n",
    "print(view_text)"
   ]
  },
  {
   "cell_type": "code",
   "execution_count": 5,
   "metadata": {},
   "outputs": [
    {
     "name": "stderr",
     "output_type": "stream",
     "text": [
      "Using embedded DuckDB without persistence: data will be transient\n"
     ]
    },
    {
     "name": "stdout",
     "output_type": "stream",
     "text": [
      "Finding similar examples for query: first 30 images with a ground truth detection\n",
      "Identified likely view stages: ['match', 'sort_by_similarity', 'skip', 'filter_labels', 'limit', 'exclude', 'filter_field', 'limit_labels', 'select_fields', 'take']\n",
      "Identified potentially relevant fields: [ground_truth]\n",
      "Identified label classes: {'ground_truth': []}\n",
      "[match(F(\"ground_truth.detections\").length() > 0), limit(30)]\n"
     ]
    }
   ],
   "source": [
    "query = \"first 30 images with a ground truth detection\"\n",
    "view_text = get_gpt_view_text(dataset, query)\n",
    "print(view_text)"
   ]
  },
  {
   "cell_type": "code",
   "execution_count": 3,
   "metadata": {},
   "outputs": [
    {
     "name": "stderr",
     "output_type": "stream",
     "text": [
      "Using embedded DuckDB without persistence: data will be transient\n"
     ]
    },
    {
     "name": "stdout",
     "output_type": "stream",
     "text": [
      "Finding similar examples for query: sort by image uniqueness1 for images with a >0.5 confidence classification\n",
      "Identified likely view stages: ['sort_by', 'sort_by_similarity', 'filter_labels', 'match', 'exists', 'limit', 'set_field', 'match_labels', 'select_fields', 'skip']\n",
      "Identified brain methods: ['uniqueness']\n",
      "Identified brain runs: {'uniqueness': 'uniqueness1'}\n",
      "Identified potentially relevant fields: [classif, mistakenness1_eval_fp]\n",
      "Identified label classes: {'classif': []}\n",
      "[match(F(\"classif.confidence\") > 0.5), sort_by(\"uniqueness1\")]\n"
     ]
    }
   ],
   "source": [
    "query = \"sort by image uniqueness1 for images with a >0.5 confidence classification\"\n",
    "view_text = get_gpt_view_text(dataset, query)\n",
    "print(view_text)"
   ]
  },
  {
   "cell_type": "code",
   "execution_count": 4,
   "metadata": {},
   "outputs": [
    {
     "name": "stderr",
     "output_type": "stream",
     "text": [
      "Using embedded DuckDB without persistence: data will be transient\n"
     ]
    },
    {
     "name": "stdout",
     "output_type": "stream",
     "text": [
      "Finding similar examples for query: find the images most resembling a farm scene\n",
      "Identified likely view stages: ['match', 'sort_by_similarity', 'limit', 'geo_near', 'skip', 'exclude', 'exists', 'filter_labels', 'select_fields', 'sort_by']\n",
      "Identified brain methods: ['image_similarity', 'text_similarity']\n",
      "Identified brain runs: {'image_similarity': 'img_sim', 'text_similarity': 'img_sim'}\n",
      "Identified potentially relevant fields: [classif]\n",
      "Class name farm not found for label classif\n",
      "Identified label classes: {'classif': ['farm']}\n",
      "[sort_by_similarity(\"farm\", k=15, brain_key=\"img_sim\")]\n"
     ]
    }
   ],
   "source": [
    "query = \"find the images most resembling a farm scene\"\n",
    "view_text = get_gpt_view_text(dataset, query)\n",
    "print(view_text)"
   ]
  },
  {
   "attachments": {},
   "cell_type": "markdown",
   "metadata": {},
   "source": [
    "## Roadmap"
   ]
  },
  {
   "attachments": {},
   "cell_type": "markdown",
   "metadata": {},
   "source": [
    "### Validation and error handling\n",
    "- even fully fleshed out, this is not going to be 100% accurate. Need to validate that it is actually creating a valid DataSetView\n",
    "- if it isn't, prompt the user for more specific information\n",
    "    - this could potentially be tailored to which part of the process it failed\n",
    "\n",
    "### Plugin\n",
    "- Everything will be wrapped in a single python function `generate_datasetview_with_chatgpt(dataset, prompt)`\n",
    "- Then need to turn this into a plugin. It will take the `session.dataset` as dataset, and will set `session.view`\n",
    "- This will probably be a menu-item plugin - we could use the ChatGPT symbol - it will take user input\n",
    "- Would love to have a toggle the user can specify for whether they want \n",
    "    - the view created from scratch, or \n",
    "    - the view stages concatenated with their existing view\n",
    "\n",
    "### Future\n",
    "- Memory/chat history\n",
    "- More general question-answering:\n",
    "    - First stage: determine whether the user is asking a question about the entire dataset, or individual samples\n",
    "    - Use ChatGPT as a dispatcher, deciding what other models/processes to invoke.\n",
    "        - if it is about aggregations, then decide what FiftyOne aggregation to perform, and interpret the results\n",
    "        - if it is about a single image, employ BLIPv2 or equivalent..."
   ]
  },
  {
   "cell_type": "code",
   "execution_count": null,
   "metadata": {},
   "outputs": [],
   "source": []
  },
  {
   "cell_type": "code",
   "execution_count": null,
   "metadata": {},
   "outputs": [],
   "source": []
  },
  {
   "cell_type": "code",
   "execution_count": null,
   "metadata": {},
   "outputs": [],
   "source": []
  },
  {
   "cell_type": "code",
   "execution_count": null,
   "metadata": {},
   "outputs": [],
   "source": []
  },
  {
   "cell_type": "code",
   "execution_count": null,
   "metadata": {},
   "outputs": [],
   "source": []
  },
  {
   "cell_type": "code",
   "execution_count": null,
   "metadata": {},
   "outputs": [],
   "source": []
  },
  {
   "cell_type": "code",
   "execution_count": null,
   "metadata": {},
   "outputs": [],
   "source": []
  },
  {
   "cell_type": "code",
   "execution_count": null,
   "metadata": {},
   "outputs": [],
   "source": []
  },
  {
   "cell_type": "code",
   "execution_count": null,
   "metadata": {},
   "outputs": [],
   "source": []
  }
 ],
 "metadata": {
  "kernelspec": {
   "display_name": "base",
   "language": "python",
   "name": "python3"
  },
  "language_info": {
   "codemirror_mode": {
    "name": "ipython",
    "version": 3
   },
   "file_extension": ".py",
   "mimetype": "text/x-python",
   "name": "python",
   "nbconvert_exporter": "python",
   "pygments_lexer": "ipython3",
   "version": "3.9.13"
  },
  "orig_nbformat": 4
 },
 "nbformat": 4,
 "nbformat_minor": 2
}
