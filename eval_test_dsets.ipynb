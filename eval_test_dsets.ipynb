{
 "cells": [
  {
   "cell_type": "code",
   "execution_count": null,
   "id": "d3fda116-9d20-4c26-91c9-ea999b84c7f4",
   "metadata": {
    "tags": []
   },
   "outputs": [],
   "source": [
    "import random\n",
    "import numpy as np\n",
    "\n",
    "import fiftyone as fo\n",
    "import fiftyone.zoo as foz\n",
    "import fiftyone.brain as fob\n",
    "from fiftyone import ViewField as F"
   ]
  },
  {
   "cell_type": "code",
   "execution_count": null,
   "id": "c5917fb9",
   "metadata": {},
   "outputs": [],
   "source": [
    "ds = fo.load_dataset('ds_al_chat')"
   ]
  },
  {
   "cell_type": "code",
   "execution_count": null,
   "id": "efead309",
   "metadata": {},
   "outputs": [],
   "source": [
    "ds = foz.load_zoo_dataset('quickstart')"
   ]
  },
  {
   "cell_type": "code",
   "execution_count": null,
   "id": "42932757-7ed4-4e68-8a8b-b10f70f1c831",
   "metadata": {},
   "outputs": [],
   "source": [
    "fob.compute_similarity(\n",
    "    ds,\n",
    "    model=\"clip-vit-base32-torch\",\n",
    "    brain_key=\"img_sim\",\n",
    ")"
   ]
  },
  {
   "cell_type": "code",
   "execution_count": null,
   "id": "4e84f0dd-9f24-4258-a9da-d4c37c35fec4",
   "metadata": {
    "tags": []
   },
   "outputs": [],
   "source": [
    "# Index ground truth objects by similarity\n",
    "fob.compute_similarity(\n",
    "    ds,\n",
    "    patches_field=\"ground_truth\",\n",
    "    model=\"resnet18-imagenet-torch\",\n",
    "    brain_key=\"gt_sim\",\n",
    ")"
   ]
  },
  {
   "cell_type": "code",
   "execution_count": null,
   "id": "3156e46d-1b7d-4a77-a954-0be8e6902b05",
   "metadata": {
    "tags": []
   },
   "outputs": [],
   "source": [
    "fob.compute_uniqueness(ds)\n"
   ]
  },
  {
   "cell_type": "code",
   "execution_count": null,
   "id": "36929317-683a-4838-8ecd-41856ddbc050",
   "metadata": {
    "tags": []
   },
   "outputs": [],
   "source": [
    "ds.name = 'ds_al_chat'\n",
    "ds.persistent=True"
   ]
  },
  {
   "cell_type": "code",
   "execution_count": null,
   "id": "73cfc4f5-07f7-40e7-9990-6e4d385eb0a0",
   "metadata": {
    "tags": []
   },
   "outputs": [],
   "source": [
    "res = ds.evaluate_detections(\n",
    "    \"predictions\",\n",
    "    gt_field=\"ground_truth\",\n",
    "    eval_key=\"eval_det\",\n",
    ")"
   ]
  },
  {
   "cell_type": "code",
   "execution_count": null,
   "id": "5ca76de0-da80-40f9-9351-70f2e164b824",
   "metadata": {
    "tags": []
   },
   "outputs": [],
   "source": [
    "res = ds.evaluate_detections(\n",
    "    \"predictions\",\n",
    "    gt_field=\"ground_truth\",\n",
    "    eval_key=\"eval_det_iou08\",\n",
    "    iou=0.8,\n",
    ")"
   ]
  },
  {
   "cell_type": "code",
   "execution_count": null,
   "id": "b4a2ed90-879e-45a9-a99d-b76ac5f146ac",
   "metadata": {
    "tags": []
   },
   "outputs": [],
   "source": [
    "res = ds.evaluate_detections(\n",
    "    \"predictions\",\n",
    "    gt_field=\"ground_truth\",\n",
    "    eval_key=\"eval_det_oi\",\n",
    "    method='open-images',\n",
    ")"
   ]
  },
  {
   "cell_type": "code",
   "execution_count": null,
   "id": "f3f3d77e-fb4c-419c-b588-393c834bba6b",
   "metadata": {
    "tags": []
   },
   "outputs": [],
   "source": [
    "CLSES = [str(x) for x in range(5)]\n",
    "\n",
    "def jitter(val):\n",
    "    if random.random() < 0.10:\n",
    "        return random.choice(CLSES)\n",
    "\n",
    "    return val\n",
    "\n",
    "def newval():\n",
    "    return random.choice(CLSES)\n",
    "\n",
    "def newval_logits():\n",
    "    logits = [random.random() for c in CLSES]\n",
    "    lbl = CLSES[np.argmax(logits)]\n",
    "    conf = random.random()\n",
    "    return lbl, conf, logits\n",
    "    "
   ]
  },
  {
   "cell_type": "code",
   "execution_count": null,
   "id": "f3705e39-96cc-4ea7-9d4f-5eb00a6427da",
   "metadata": {
    "tags": []
   },
   "outputs": [],
   "source": [
    "#vals_gt = [newval() for s in ds]\n",
    "#vals_pd = [jitter(x) for x in vals_gt]\n",
    "\n",
    "vals_gt = [newval_logits() for s in ds]\n",
    "vals_pd = [newval_logits() for s in ds]\n",
    "vals_pd2 = [newval_logits() for s in ds]\n",
    "\n",
    "vals_gt = [fo.Classification(label=l,confidence=c,logits=log) for l,c,log in vals_gt]\n",
    "vals_pd = [fo.Classification(label=l,confidence=c,logits=log) for l,c,log in vals_pd]\n",
    "vals_pd2 = [fo.Classification(label=l,confidence=c,logits=log) for l,c,log in vals_pd2]\n",
    "\n",
    "ds.set_values('cls_gt',vals_gt)\n",
    "ds.set_values('cls_pd',vals_pd)\n",
    "ds.set_values('cls_pd2',vals_pd2)"
   ]
  },
  {
   "cell_type": "code",
   "execution_count": null,
   "id": "a6d6c37b-6539-4a73-b303-816de2753ef9",
   "metadata": {
    "tags": []
   },
   "outputs": [],
   "source": [
    "ds.save()\n",
    "print(ds)\n",
    "s=ds.first()"
   ]
  },
  {
   "cell_type": "code",
   "execution_count": null,
   "id": "326e97dd-217a-4b3c-90ab-ca451965a2a3",
   "metadata": {
    "tags": []
   },
   "outputs": [],
   "source": [
    "# clsification eval: \n",
    "results = ds.evaluate_classifications(\n",
    "    \"cls_pd\",\n",
    "    gt_field=\"cls_gt\",\n",
    "    eval_key=\"eval_cls\",\n",
    ")\n",
    "\n",
    "results = ds.evaluate_classifications(\n",
    "    \"cls_pd2\",\n",
    "    gt_field=\"cls_gt\",\n",
    "    eval_key=\"eval_cls2\",\n",
    ")\n"
   ]
  },
  {
   "cell_type": "code",
   "execution_count": null,
   "id": "bf7a15fe-de87-42fc-88c3-1ddb9844aa6a",
   "metadata": {
    "tags": []
   },
   "outputs": [],
   "source": [
    "# topk\n",
    "results = ds.evaluate_classifications(\n",
    "    \"cls_pd\",\n",
    "    gt_field=\"cls_gt\",\n",
    "    eval_key=\"eval_cls_topk\",\n",
    "    method=\"top-k\",\n",
    "    classes=CLSES,\n",
    "    k=3)\n",
    "\n",
    "results = ds.evaluate_classifications(\n",
    "    \"cls_pd2\",\n",
    "    gt_field=\"cls_gt\",\n",
    "    eval_key=\"eval_cls2_topk\",\n",
    "    method=\"top-k\",\n",
    "    classes=CLSES,\n",
    "    k=3)"
   ]
  },
  {
   "cell_type": "code",
   "execution_count": null,
   "id": "93cfaa61-874f-4d73-b594-fe6c6b788561",
   "metadata": {
    "tags": []
   },
   "outputs": [],
   "source": [
    "fob.compute_hardness(ds,'cls_pd')"
   ]
  },
  {
   "cell_type": "code",
   "execution_count": null,
   "id": "358e9238-9476-446b-bc5c-ff3616bfa85c",
   "metadata": {
    "tags": []
   },
   "outputs": [],
   "source": [
    "ifos = [ds.get_evaluation_info(x) for x in ds.list_evaluations()]\n",
    "print(ifos)"
   ]
  },
  {
   "cell_type": "code",
   "execution_count": null,
   "id": "f2ca625b-17bc-4769-b8b9-15fed4212b56",
   "metadata": {},
   "outputs": [],
   "source": [
    "list_evaluations\n",
    "i=ds.get_evaluation_info()\n",
    "#h=ds.has_evaluaion\n",
    "load_evaluation_results\n",
    "laod_evaluation_view\n",
    "to_evaluation_pathes"
   ]
  },
  {
   "cell_type": "code",
   "execution_count": null,
   "id": "cd7c861f",
   "metadata": {},
   "outputs": [],
   "source": []
  },
  {
   "cell_type": "markdown",
   "id": "5a7f42b3",
   "metadata": {},
   "source": []
  },
  {
   "attachments": {},
   "cell_type": "markdown",
   "id": "4aafae68",
   "metadata": {},
   "source": [
    "### test 1: multiple pred fields\n"
   ]
  },
  {
   "cell_type": "code",
   "execution_count": null,
   "id": "23f95315",
   "metadata": {},
   "outputs": [],
   "source": [
    "ds = foz.load_zoo_dataset('quickstart')"
   ]
  },
  {
   "cell_type": "code",
   "execution_count": null,
   "id": "47b26565",
   "metadata": {},
   "outputs": [],
   "source": [
    "for s in ds:\n",
    "    dets = s.predictions.detections.copy()\n",
    "    s['new_preds'] = fo.Detections(detections=dets)\n",
    "    s.save()\n",
    "print(ds)"
   ]
  },
  {
   "cell_type": "code",
   "execution_count": null,
   "id": "f57ec6f1",
   "metadata": {},
   "outputs": [],
   "source": [
    "res0 = ds.evaluate_detections(\n",
    "    \"predictions\",\n",
    "    gt_field=\"ground_truth\",\n",
    "    eval_key=\"eval_preds\",\n",
    ")\n",
    "res1 = ds.evaluate_detections(\n",
    "    \"new_preds\",\n",
    "    gt_field=\"ground_truth\",\n",
    "    eval_key=\"eval_new\",\n",
    ")"
   ]
  },
  {
   "cell_type": "code",
   "execution_count": null,
   "id": "1a44beab",
   "metadata": {},
   "outputs": [],
   "source": [
    "print(ds.list_evaluations())\n",
    "ds.name='ds_chat_2detpreds'\n",
    "ds.persistent=True"
   ]
  },
  {
   "attachments": {},
   "cell_type": "markdown",
   "id": "9d80dbc1",
   "metadata": {},
   "source": [
    "### test 2: multiple gt fields\n"
   ]
  },
  {
   "cell_type": "code",
   "execution_count": 1,
   "id": "9d3c3b79",
   "metadata": {},
   "outputs": [
    {
     "name": "stdout",
     "output_type": "stream",
     "text": [
      "Dataset already downloaded\n",
      "Loading 'quickstart'\n",
      " 100% |█████████████████| 200/200 [2.1s elapsed, 0s remaining, 98.0 samples/s]          \n",
      "Dataset 'quickstart' created\n",
      "Name:        quickstart\n",
      "Media type:  image\n",
      "Num samples: 200\n",
      "Persistent:  False\n",
      "Tags:        []\n",
      "Sample fields:\n",
      "    id:           fiftyone.core.fields.ObjectIdField\n",
      "    filepath:     fiftyone.core.fields.StringField\n",
      "    tags:         fiftyone.core.fields.ListField(fiftyone.core.fields.StringField)\n",
      "    metadata:     fiftyone.core.fields.EmbeddedDocumentField(fiftyone.core.metadata.ImageMetadata)\n",
      "    ground_truth: fiftyone.core.fields.EmbeddedDocumentField(fiftyone.core.labels.Detections)\n",
      "    uniqueness:   fiftyone.core.fields.FloatField\n",
      "    predictions:  fiftyone.core.fields.EmbeddedDocumentField(fiftyone.core.labels.Detections)\n",
      "    gt_new:       fiftyone.core.fields.EmbeddedDocumentField(fiftyone.core.labels.Detections)\n",
      "Evaluating detections...\n",
      " 100% |█████████████████| 200/200 [10.7s elapsed, 0s remaining, 13.6 samples/s]      \n",
      "Evaluating detections...\n",
      " 100% |█████████████████| 200/200 [12.0s elapsed, 0s remaining, 12.2 samples/s]      \n",
      "['eval', 'eval_newgt']\n"
     ]
    }
   ],
   "source": [
    "\n",
    "ds = foz.load_zoo_dataset('quickstart')\n",
    "for s in ds:\n",
    "    dets = s.ground_truth.detections.copy()\n",
    "    s['gt_new'] = fo.Detections(detections=dets)\n",
    "    s.save()\n",
    "print(ds)\n",
    "res0 = ds.evaluate_detections(\n",
    "    \"predictions\",\n",
    "    gt_field=\"ground_truth\",\n",
    "    eval_key=\"eval\",\n",
    ")\n",
    "res1 = ds.evaluate_detections(\n",
    "    \"predictions\",\n",
    "    gt_field=\"gt_new\",\n",
    "    eval_key=\"eval_newgt\",\n",
    ")\n",
    "print(ds.list_evaluations())\n",
    "ds.name='ds_chat_2detGTs'\n",
    "ds.persistent=True"
   ]
  },
  {
   "attachments": {},
   "cell_type": "markdown",
   "id": "b64e3b0f",
   "metadata": {},
   "source": [
    "### test3: multiple IOU thresholds"
   ]
  },
  {
   "cell_type": "code",
   "execution_count": 2,
   "id": "7e7a0159",
   "metadata": {},
   "outputs": [
    {
     "name": "stdout",
     "output_type": "stream",
     "text": [
      "Dataset already downloaded\n",
      "Loading 'quickstart'\n",
      " 100% |█████████████████| 200/200 [2.0s elapsed, 0s remaining, 100.4 samples/s]         \n",
      "Dataset 'quickstart' created\n",
      "Evaluating detections...\n",
      " 100% |█████████████████| 200/200 [10.6s elapsed, 0s remaining, 14.0 samples/s]      \n",
      "Evaluating detections...\n",
      " 100% |█████████████████| 200/200 [11.7s elapsed, 0s remaining, 12.7 samples/s]      \n",
      "['eval_det_normal', 'eval_det_tight']\n"
     ]
    }
   ],
   "source": [
    "ds = foz.load_zoo_dataset('quickstart')\n",
    "res0 = ds.evaluate_detections(\n",
    "    \"predictions\",\n",
    "    gt_field=\"ground_truth\",\n",
    "    eval_key=\"eval_det_normal\",\n",
    "    iou=0.6,\n",
    ")\n",
    "res1 = ds.evaluate_detections(\n",
    "    \"predictions\",\n",
    "    gt_field=\"ground_truth\",\n",
    "    eval_key=\"eval_det_tight\",\n",
    "    iou=0.9,\n",
    ")\n",
    "print(ds.list_evaluations())\n",
    "ds.name='ds_chat_2detIOUs'\n",
    "ds.persistent=True"
   ]
  },
  {
   "cell_type": "code",
   "execution_count": 4,
   "id": "8d3ed363",
   "metadata": {},
   "outputs": [
    {
     "data": {
      "text/plain": [
       "['ds_al_chat',\n",
       " 'ds_chat_2detGTs',\n",
       " 'ds_chat_2detIOUs',\n",
       " 'ds_chat_2detpreds',\n",
       " 'quickstart-video']"
      ]
     },
     "execution_count": 4,
     "metadata": {},
     "output_type": "execute_result"
    }
   ],
   "source": [
    "fo.list_datasets()"
   ]
  },
  {
   "cell_type": "code",
   "execution_count": null,
   "id": "eadc1faf",
   "metadata": {},
   "outputs": [],
   "source": []
  }
 ],
 "metadata": {
  "kernelspec": {
   "display_name": "Python 3 (ipykernel)",
   "language": "python",
   "name": "python3"
  },
  "language_info": {
   "codemirror_mode": {
    "name": "ipython",
    "version": 3
   },
   "file_extension": ".py",
   "mimetype": "text/x-python",
   "name": "python",
   "nbconvert_exporter": "python",
   "pygments_lexer": "ipython3",
   "version": "3.10.10"
  }
 },
 "nbformat": 4,
 "nbformat_minor": 5
}
