{
 "cells": [
  {
   "cell_type": "code",
   "execution_count": null,
   "id": "ac66bc7a-faf9-493b-8ba7-495843d4ca9c",
   "metadata": {
    "tags": []
   },
   "outputs": [],
   "source": [
    "import shutil\n",
    "import os\n",
    "\n",
    "import numpy as np\n",
    "\n",
    "import fiftyone as fo\n",
    "import fiftyone.zoo as foz\n",
    "#import fiftyone.core.storage as fos"
   ]
  },
  {
   "cell_type": "code",
   "execution_count": null,
   "id": "282c8ba8-1704-4783-b3ec-042087214352",
   "metadata": {
    "tags": []
   },
   "outputs": [],
   "source": [
    "if fo.dataset_exists('qs-00'):\n",
    "    fo.delete_dataset('qs-00')\n",
    "    \n",
    "ds = foz.load_zoo_dataset('quickstart',dataset_name='qs-00');\n",
    "ds = ds.limit(30).clone()\n",
    "if fo.dataset_exists('qs-00'):\n",
    "    fo.delete_dataset('qs-00')\n",
    "\n",
    "\n",
    "ds.name = 'qs-00'\n",
    "ds.persistent=False\n",
    "\n",
    "for sidx,s in enumerate(ds):\n",
    "    fp = s.filepath\n",
    "    fpdir,fpbase = os.path.split(fp)\n",
    "    fpbase = os.path.splitext(fpbase)[0]\n",
    "    if sidx % 2 == 0:\n",
    "        fpbase += \"_montreal\"\n",
    "    fpbase += f'_trial{sidx % 4}'\n",
    "    \n",
    "    fpnew = os.path.join(fpdir,fpbase+'.jpg')\n",
    "    shutil.copyfile(fp,fpnew)\n",
    "    print(f'moved {fp} -> {fpnew}')\n",
    "    s.filepath = fpnew\n",
    "    s.save()\n",
    "        "
   ]
  },
  {
   "cell_type": "code",
   "execution_count": null,
   "id": "5a850e03-9a92-454d-b595-d02f8442f7ae",
   "metadata": {
    "tags": []
   },
   "outputs": [],
   "source": [
    "ds.rename_sample_field('ground_truth','labels')\n",
    "ds.rename_sample_field('predictions','model')"
   ]
  },
  {
   "cell_type": "code",
   "execution_count": null,
   "id": "ec2f7293-c240-403c-8c29-b0167a49e9a6",
   "metadata": {
    "tags": []
   },
   "outputs": [],
   "source": [
    "haz_max = 10\n",
    "hazard = haz_max*np.random.random(len(ds))\n",
    "status = ['released','admitted',None]*(len(ds)//3)\n",
    "fall_hazard = np.random.random(len(ds)).tolist()\n",
    "fall_hazard[3] = None\n",
    "fall_hazard[7] = None\n",
    "ds.set_values('hazard',hazard)\n",
    "ds.set_values('status',status)\n",
    "ds.set_values('fall_hazard',fall_hazard)"
   ]
  },
  {
   "cell_type": "code",
   "execution_count": null,
   "id": "e0527c4f-dece-4821-aca2-658e9e22ee6a",
   "metadata": {
    "tags": []
   },
   "outputs": [],
   "source": [
    "# keypts\n",
    "keypt_classes = ['head','armL','armR','legL','legR']\n",
    "nclass = len(keypt_classes)\n",
    "for s in ds:\n",
    "    keypts = []\n",
    "    for det in s.labels.detections:\n",
    "        cls = keypt_classes[np.random.randint(0,nclass)]\n",
    "        pts = np.random.rand(nclass,2)\n",
    "        kp = fo.Keypoint(label=cls,points=pts)\n",
    "        keypts.append(kp)\n",
    "    s['labels_kpts'] = fo.Keypoints(keypoints=keypts)\n",
    "    s.save()\n",
    "    \n",
    "    keypts = []\n",
    "    for det in s.model.detections:\n",
    "        cls = keypt_classes[np.random.randint(0,nclass)]\n",
    "        pts = np.random.rand(nclass,2)\n",
    "        kp = fo.Keypoint(label=cls,points=pts)\n",
    "        keypts.append(kp)\n",
    "    s['model_kpts'] = fo.Keypoints(keypoints=keypts)\n",
    "    s.save()\n",
    "    \n",
    "        \n"
   ]
  },
  {
   "cell_type": "code",
   "execution_count": 8,
   "id": "3de93e9f-457c-4969-9cb3-a20fa1068566",
   "metadata": {
    "tags": []
   },
   "outputs": [],
   "source": [
    "# sample-level tags\n",
    "REVIEW_STATE_TAGS = ['NeedsReview', 'ReviewOK', 'ReviewInProg']\n",
    "REVIEWER_TAGS = ['Reviewer01', 'Reviewer02']\n",
    "\n",
    "for i,s in enumerate(ds):\n",
    "    tag_state = REVIEW_STATE_TAGS[i % len(REVIEW_STATE_TAGS)]\n",
    "    tag_revwr = REVIEWER_TAGS[i% len(REVIEWER_TAGS)]\n",
    "    s.tags.append(tag_state)\n",
    "    s.tags.append(tag_revwr)\n",
    "    s.save()\n"
   ]
  },
  {
   "cell_type": "code",
   "execution_count": 23,
   "id": "8b04c485-5377-4ce9-b486-ade342455ccd",
   "metadata": {
    "tags": []
   },
   "outputs": [],
   "source": [
    "# label-level tags\n",
    "REVIEW_STATE_TAGS = ['ReviewOK', 'ReviewFlag', 'ReviewProg']\n",
    "REVIEWER_TAGS = ['Reviewer01', 'Reviewer02', 'Reviewer03']\n",
    "\n",
    "for s in ds:\n",
    "    for i,det in enumerate(s.model.detections):\n",
    "        det.tags = []\n",
    "        tag_state = REVIEW_STATE_TAGS[i % len(REVIEW_STATE_TAGS)]\n",
    "        tag_revwr = REVIEWER_TAGS[i% len(REVIEWER_TAGS)]\n",
    "        det.tags.append(tag_state)\n",
    "        det.tags.append(tag_revwr)\n",
    "    s.save()\n",
    "    \n",
    "    for i,kpt in enumerate(s.model_kpts.keypoints):\n",
    "        kpt.tags = []\n",
    "        tag_state = REVIEW_STATE_TAGS[i % len(REVIEW_STATE_TAGS)]\n",
    "        tag_revwr = REVIEWER_TAGS[i% len(REVIEWER_TAGS)]\n",
    "        kpt.tags.append(tag_state)\n",
    "        kpt.tags.append(tag_revwr)\n",
    "    s.save()\n",
    "    \n"
   ]
  },
  {
   "cell_type": "code",
   "execution_count": null,
   "id": "4342bca8-30ed-4978-bbf0-c23d81bc2d6c",
   "metadata": {
    "tags": []
   },
   "outputs": [],
   "source": [
    "ds.name = 'qs-keypts'\n",
    "ds.persistent=True"
   ]
  },
  {
   "cell_type": "code",
   "execution_count": null,
   "id": "0ba5a3b8-1ef7-4bb6-b4a5-29a99fdacf13",
   "metadata": {},
   "outputs": [],
   "source": []
  }
 ],
 "metadata": {
  "kernelspec": {
   "display_name": "Python 3 (ipykernel)",
   "language": "python",
   "name": "python3"
  },
  "language_info": {
   "codemirror_mode": {
    "name": "ipython",
    "version": 3
   },
   "file_extension": ".py",
   "mimetype": "text/x-python",
   "name": "python",
   "nbconvert_exporter": "python",
   "pygments_lexer": "ipython3",
   "version": "3.10.11"
  }
 },
 "nbformat": 4,
 "nbformat_minor": 5
}
